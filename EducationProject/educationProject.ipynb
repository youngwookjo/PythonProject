{
 "cells": [
  {
   "cell_type": "markdown",
   "metadata": {},
   "source": [
    "## 파이선 프로젝트 : 세대간 교육불평등 자료 시각화<br>\n",
    "출처: OECD (https://stats.oecd.org/Index.aspx?DataSetCode=EAG_MOB# )"
   ]
  },
  {
   "cell_type": "code",
   "execution_count": 1,
   "metadata": {},
   "outputs": [],
   "source": [
    "import warnings\n",
    "warnings.filterwarnings('ignore')"
   ]
  },
  {
   "cell_type": "code",
   "execution_count": 2,
   "metadata": {},
   "outputs": [],
   "source": [
    "import re\n",
    "import numpy as np\n",
    "import pandas as pd\n",
    "import matplotlib.pyplot as plt\n",
    "import seaborn as sns\n",
    "%matplotlib inline"
   ]
  },
  {
   "cell_type": "code",
   "execution_count": 3,
   "metadata": {},
   "outputs": [],
   "source": [
    "import matplotlib\n",
    "from matplotlib import font_manager, rc\n",
    "import platform\n",
    "\n",
    "if platform.system() == 'Windows':\n",
    "# 윈도우인 경우\n",
    "    font_name = font_manager.FontProperties(fname=\"c:/Windows/Fonts/malgun.ttf\").get_name()\n",
    "    rc('font', family=font_name)\n",
    "else:    \n",
    "# Mac 인 경우\n",
    "    rc('font', family='AppleGothic')\n",
    "    \n",
    "matplotlib.rcParams['axes.unicode_minus'] = False   \n",
    "#그래프에서 마이너스 기호가 표시되도록 하는 설정"
   ]
  },
  {
   "cell_type": "markdown",
   "metadata": {},
   "source": []
  },
  {
   "cell_type": "code",
   "execution_count": 4,
   "metadata": {},
   "outputs": [
    {
     "data": {
      "text/html": [
       "<div>\n",
       "<style scoped>\n",
       "    .dataframe tbody tr th:only-of-type {\n",
       "        vertical-align: middle;\n",
       "    }\n",
       "\n",
       "    .dataframe tbody tr th {\n",
       "        vertical-align: top;\n",
       "    }\n",
       "\n",
       "    .dataframe thead th {\n",
       "        text-align: right;\n",
       "    }\n",
       "</style>\n",
       "<table border=\"1\" class=\"dataframe\">\n",
       "  <thead>\n",
       "    <tr style=\"text-align: right;\">\n",
       "      <th></th>\n",
       "      <th>COUNTRY</th>\n",
       "      <th>Country</th>\n",
       "      <th>ISC11A</th>\n",
       "      <th>ISCED-A 2011</th>\n",
       "      <th>SEX</th>\n",
       "      <th>Gender</th>\n",
       "      <th>AGE</th>\n",
       "      <th>Age</th>\n",
       "      <th>PIAAC_CATEGORY</th>\n",
       "      <th>Category</th>\n",
       "      <th>INDICATOR</th>\n",
       "      <th>Indicator</th>\n",
       "      <th>MEASURE</th>\n",
       "      <th>Measure</th>\n",
       "      <th>YEAR</th>\n",
       "      <th>Reference year</th>\n",
       "      <th>Value</th>\n",
       "      <th>Flag Codes</th>\n",
       "      <th>Flags</th>\n",
       "    </tr>\n",
       "  </thead>\n",
       "  <tbody>\n",
       "    <tr>\n",
       "      <td>0</td>\n",
       "      <td>AUS</td>\n",
       "      <td>Australia</td>\n",
       "      <td>L0T2</td>\n",
       "      <td>Below upper secondary education</td>\n",
       "      <td>T</td>\n",
       "      <td>Total</td>\n",
       "      <td>Y25T44</td>\n",
       "      <td>25-44 years</td>\n",
       "      <td>PARED1</td>\n",
       "      <td>Neither parent has attained upper secondary</td>\n",
       "      <td>PIAAC_SHARE_EA</td>\n",
       "      <td>Share of population by educational attainment</td>\n",
       "      <td>VALUE</td>\n",
       "      <td>Value</td>\n",
       "      <td>2012</td>\n",
       "      <td>2012</td>\n",
       "      <td>25.0</td>\n",
       "      <td>NaN</td>\n",
       "      <td>NaN</td>\n",
       "    </tr>\n",
       "    <tr>\n",
       "      <td>1</td>\n",
       "      <td>AUS</td>\n",
       "      <td>Australia</td>\n",
       "      <td>L0T2</td>\n",
       "      <td>Below upper secondary education</td>\n",
       "      <td>F</td>\n",
       "      <td>Women</td>\n",
       "      <td>Y25T44</td>\n",
       "      <td>25-44 years</td>\n",
       "      <td>PARED1</td>\n",
       "      <td>Neither parent has attained upper secondary</td>\n",
       "      <td>PIAAC_SHARE_EA</td>\n",
       "      <td>Share of population by educational attainment</td>\n",
       "      <td>VALUE</td>\n",
       "      <td>Value</td>\n",
       "      <td>2012</td>\n",
       "      <td>2012</td>\n",
       "      <td>27.0</td>\n",
       "      <td>NaN</td>\n",
       "      <td>NaN</td>\n",
       "    </tr>\n",
       "    <tr>\n",
       "      <td>2</td>\n",
       "      <td>AUS</td>\n",
       "      <td>Australia</td>\n",
       "      <td>L0T2</td>\n",
       "      <td>Below upper secondary education</td>\n",
       "      <td>M</td>\n",
       "      <td>Men</td>\n",
       "      <td>Y25T44</td>\n",
       "      <td>25-44 years</td>\n",
       "      <td>PARED1</td>\n",
       "      <td>Neither parent has attained upper secondary</td>\n",
       "      <td>PIAAC_SHARE_EA</td>\n",
       "      <td>Share of population by educational attainment</td>\n",
       "      <td>VALUE</td>\n",
       "      <td>Value</td>\n",
       "      <td>2012</td>\n",
       "      <td>2012</td>\n",
       "      <td>24.0</td>\n",
       "      <td>NaN</td>\n",
       "      <td>NaN</td>\n",
       "    </tr>\n",
       "    <tr>\n",
       "      <td>3</td>\n",
       "      <td>AUS</td>\n",
       "      <td>Australia</td>\n",
       "      <td>L0T2</td>\n",
       "      <td>Below upper secondary education</td>\n",
       "      <td>T</td>\n",
       "      <td>Total</td>\n",
       "      <td>Y25T44</td>\n",
       "      <td>25-44 years</td>\n",
       "      <td>PARED2</td>\n",
       "      <td>At least one parent has attained secondary and...</td>\n",
       "      <td>PIAAC_SHARE_EA</td>\n",
       "      <td>Share of population by educational attainment</td>\n",
       "      <td>VALUE</td>\n",
       "      <td>Value</td>\n",
       "      <td>2012</td>\n",
       "      <td>2012</td>\n",
       "      <td>18.0</td>\n",
       "      <td>NaN</td>\n",
       "      <td>NaN</td>\n",
       "    </tr>\n",
       "    <tr>\n",
       "      <td>4</td>\n",
       "      <td>AUS</td>\n",
       "      <td>Australia</td>\n",
       "      <td>L0T2</td>\n",
       "      <td>Below upper secondary education</td>\n",
       "      <td>F</td>\n",
       "      <td>Women</td>\n",
       "      <td>Y25T44</td>\n",
       "      <td>25-44 years</td>\n",
       "      <td>PARED2</td>\n",
       "      <td>At least one parent has attained secondary and...</td>\n",
       "      <td>PIAAC_SHARE_EA</td>\n",
       "      <td>Share of population by educational attainment</td>\n",
       "      <td>VALUE</td>\n",
       "      <td>Value</td>\n",
       "      <td>2012</td>\n",
       "      <td>2012</td>\n",
       "      <td>17.0</td>\n",
       "      <td>NaN</td>\n",
       "      <td>NaN</td>\n",
       "    </tr>\n",
       "    <tr>\n",
       "      <td>5</td>\n",
       "      <td>AUS</td>\n",
       "      <td>Australia</td>\n",
       "      <td>L0T2</td>\n",
       "      <td>Below upper secondary education</td>\n",
       "      <td>M</td>\n",
       "      <td>Men</td>\n",
       "      <td>Y25T44</td>\n",
       "      <td>25-44 years</td>\n",
       "      <td>PARED2</td>\n",
       "      <td>At least one parent has attained secondary and...</td>\n",
       "      <td>PIAAC_SHARE_EA</td>\n",
       "      <td>Share of population by educational attainment</td>\n",
       "      <td>VALUE</td>\n",
       "      <td>Value</td>\n",
       "      <td>2012</td>\n",
       "      <td>2012</td>\n",
       "      <td>19.0</td>\n",
       "      <td>NaN</td>\n",
       "      <td>NaN</td>\n",
       "    </tr>\n",
       "    <tr>\n",
       "      <td>6</td>\n",
       "      <td>AUS</td>\n",
       "      <td>Australia</td>\n",
       "      <td>L0T2</td>\n",
       "      <td>Below upper secondary education</td>\n",
       "      <td>T</td>\n",
       "      <td>Total</td>\n",
       "      <td>Y25T44</td>\n",
       "      <td>25-44 years</td>\n",
       "      <td>PARED3</td>\n",
       "      <td>At least one parent has attained tertiary</td>\n",
       "      <td>PIAAC_SHARE_EA</td>\n",
       "      <td>Share of population by educational attainment</td>\n",
       "      <td>VALUE</td>\n",
       "      <td>Value</td>\n",
       "      <td>2012</td>\n",
       "      <td>2012</td>\n",
       "      <td>6.0</td>\n",
       "      <td>NaN</td>\n",
       "      <td>NaN</td>\n",
       "    </tr>\n",
       "    <tr>\n",
       "      <td>7</td>\n",
       "      <td>AUS</td>\n",
       "      <td>Australia</td>\n",
       "      <td>L0T2</td>\n",
       "      <td>Below upper secondary education</td>\n",
       "      <td>F</td>\n",
       "      <td>Women</td>\n",
       "      <td>Y25T44</td>\n",
       "      <td>25-44 years</td>\n",
       "      <td>PARED3</td>\n",
       "      <td>At least one parent has attained tertiary</td>\n",
       "      <td>PIAAC_SHARE_EA</td>\n",
       "      <td>Share of population by educational attainment</td>\n",
       "      <td>VALUE</td>\n",
       "      <td>Value</td>\n",
       "      <td>2012</td>\n",
       "      <td>2012</td>\n",
       "      <td>6.0</td>\n",
       "      <td>NaN</td>\n",
       "      <td>NaN</td>\n",
       "    </tr>\n",
       "    <tr>\n",
       "      <td>8</td>\n",
       "      <td>AUS</td>\n",
       "      <td>Australia</td>\n",
       "      <td>L0T2</td>\n",
       "      <td>Below upper secondary education</td>\n",
       "      <td>M</td>\n",
       "      <td>Men</td>\n",
       "      <td>Y25T44</td>\n",
       "      <td>25-44 years</td>\n",
       "      <td>PARED3</td>\n",
       "      <td>At least one parent has attained tertiary</td>\n",
       "      <td>PIAAC_SHARE_EA</td>\n",
       "      <td>Share of population by educational attainment</td>\n",
       "      <td>VALUE</td>\n",
       "      <td>Value</td>\n",
       "      <td>2012</td>\n",
       "      <td>2012</td>\n",
       "      <td>6.0</td>\n",
       "      <td>NaN</td>\n",
       "      <td>NaN</td>\n",
       "    </tr>\n",
       "    <tr>\n",
       "      <td>9</td>\n",
       "      <td>AUS</td>\n",
       "      <td>Australia</td>\n",
       "      <td>L0T2</td>\n",
       "      <td>Below upper secondary education</td>\n",
       "      <td>T</td>\n",
       "      <td>Total</td>\n",
       "      <td>Y25T44</td>\n",
       "      <td>25-44 years</td>\n",
       "      <td>_T</td>\n",
       "      <td>Total</td>\n",
       "      <td>PIAAC_SHARE_EA</td>\n",
       "      <td>Share of population by educational attainment</td>\n",
       "      <td>VALUE</td>\n",
       "      <td>Value</td>\n",
       "      <td>2012</td>\n",
       "      <td>2012</td>\n",
       "      <td>17.0</td>\n",
       "      <td>NaN</td>\n",
       "      <td>NaN</td>\n",
       "    </tr>\n",
       "    <tr>\n",
       "      <td>10</td>\n",
       "      <td>AUS</td>\n",
       "      <td>Australia</td>\n",
       "      <td>L0T2</td>\n",
       "      <td>Below upper secondary education</td>\n",
       "      <td>F</td>\n",
       "      <td>Women</td>\n",
       "      <td>Y25T44</td>\n",
       "      <td>25-44 years</td>\n",
       "      <td>_T</td>\n",
       "      <td>Total</td>\n",
       "      <td>PIAAC_SHARE_EA</td>\n",
       "      <td>Share of population by educational attainment</td>\n",
       "      <td>VALUE</td>\n",
       "      <td>Value</td>\n",
       "      <td>2012</td>\n",
       "      <td>2012</td>\n",
       "      <td>17.0</td>\n",
       "      <td>NaN</td>\n",
       "      <td>NaN</td>\n",
       "    </tr>\n",
       "    <tr>\n",
       "      <td>11</td>\n",
       "      <td>AUS</td>\n",
       "      <td>Australia</td>\n",
       "      <td>L0T2</td>\n",
       "      <td>Below upper secondary education</td>\n",
       "      <td>M</td>\n",
       "      <td>Men</td>\n",
       "      <td>Y25T44</td>\n",
       "      <td>25-44 years</td>\n",
       "      <td>_T</td>\n",
       "      <td>Total</td>\n",
       "      <td>PIAAC_SHARE_EA</td>\n",
       "      <td>Share of population by educational attainment</td>\n",
       "      <td>VALUE</td>\n",
       "      <td>Value</td>\n",
       "      <td>2012</td>\n",
       "      <td>2012</td>\n",
       "      <td>17.0</td>\n",
       "      <td>NaN</td>\n",
       "      <td>NaN</td>\n",
       "    </tr>\n",
       "    <tr>\n",
       "      <td>12</td>\n",
       "      <td>AUS</td>\n",
       "      <td>Australia</td>\n",
       "      <td>L3T4</td>\n",
       "      <td>Upper secondary and post-secondary non-tertiar...</td>\n",
       "      <td>T</td>\n",
       "      <td>Total</td>\n",
       "      <td>Y25T44</td>\n",
       "      <td>25-44 years</td>\n",
       "      <td>PARED1</td>\n",
       "      <td>Neither parent has attained upper secondary</td>\n",
       "      <td>PIAAC_SHARE_EA</td>\n",
       "      <td>Share of population by educational attainment</td>\n",
       "      <td>VALUE</td>\n",
       "      <td>Value</td>\n",
       "      <td>2012</td>\n",
       "      <td>2012</td>\n",
       "      <td>46.0</td>\n",
       "      <td>NaN</td>\n",
       "      <td>NaN</td>\n",
       "    </tr>\n",
       "    <tr>\n",
       "      <td>13</td>\n",
       "      <td>AUS</td>\n",
       "      <td>Australia</td>\n",
       "      <td>L3T4</td>\n",
       "      <td>Upper secondary and post-secondary non-tertiar...</td>\n",
       "      <td>F</td>\n",
       "      <td>Women</td>\n",
       "      <td>Y25T44</td>\n",
       "      <td>25-44 years</td>\n",
       "      <td>PARED1</td>\n",
       "      <td>Neither parent has attained upper secondary</td>\n",
       "      <td>PIAAC_SHARE_EA</td>\n",
       "      <td>Share of population by educational attainment</td>\n",
       "      <td>VALUE</td>\n",
       "      <td>Value</td>\n",
       "      <td>2012</td>\n",
       "      <td>2012</td>\n",
       "      <td>42.0</td>\n",
       "      <td>NaN</td>\n",
       "      <td>NaN</td>\n",
       "    </tr>\n",
       "    <tr>\n",
       "      <td>14</td>\n",
       "      <td>AUS</td>\n",
       "      <td>Australia</td>\n",
       "      <td>L3T4</td>\n",
       "      <td>Upper secondary and post-secondary non-tertiar...</td>\n",
       "      <td>M</td>\n",
       "      <td>Men</td>\n",
       "      <td>Y25T44</td>\n",
       "      <td>25-44 years</td>\n",
       "      <td>PARED1</td>\n",
       "      <td>Neither parent has attained upper secondary</td>\n",
       "      <td>PIAAC_SHARE_EA</td>\n",
       "      <td>Share of population by educational attainment</td>\n",
       "      <td>VALUE</td>\n",
       "      <td>Value</td>\n",
       "      <td>2012</td>\n",
       "      <td>2012</td>\n",
       "      <td>49.0</td>\n",
       "      <td>NaN</td>\n",
       "      <td>NaN</td>\n",
       "    </tr>\n",
       "    <tr>\n",
       "      <td>15</td>\n",
       "      <td>AUS</td>\n",
       "      <td>Australia</td>\n",
       "      <td>L3T4</td>\n",
       "      <td>Upper secondary and post-secondary non-tertiar...</td>\n",
       "      <td>T</td>\n",
       "      <td>Total</td>\n",
       "      <td>Y25T44</td>\n",
       "      <td>25-44 years</td>\n",
       "      <td>PARED2</td>\n",
       "      <td>At least one parent has attained secondary and...</td>\n",
       "      <td>PIAAC_SHARE_EA</td>\n",
       "      <td>Share of population by educational attainment</td>\n",
       "      <td>VALUE</td>\n",
       "      <td>Value</td>\n",
       "      <td>2012</td>\n",
       "      <td>2012</td>\n",
       "      <td>45.0</td>\n",
       "      <td>NaN</td>\n",
       "      <td>NaN</td>\n",
       "    </tr>\n",
       "    <tr>\n",
       "      <td>16</td>\n",
       "      <td>AUS</td>\n",
       "      <td>Australia</td>\n",
       "      <td>L3T4</td>\n",
       "      <td>Upper secondary and post-secondary non-tertiar...</td>\n",
       "      <td>F</td>\n",
       "      <td>Women</td>\n",
       "      <td>Y25T44</td>\n",
       "      <td>25-44 years</td>\n",
       "      <td>PARED2</td>\n",
       "      <td>At least one parent has attained secondary and...</td>\n",
       "      <td>PIAAC_SHARE_EA</td>\n",
       "      <td>Share of population by educational attainment</td>\n",
       "      <td>VALUE</td>\n",
       "      <td>Value</td>\n",
       "      <td>2012</td>\n",
       "      <td>2012</td>\n",
       "      <td>38.0</td>\n",
       "      <td>NaN</td>\n",
       "      <td>NaN</td>\n",
       "    </tr>\n",
       "    <tr>\n",
       "      <td>17</td>\n",
       "      <td>AUS</td>\n",
       "      <td>Australia</td>\n",
       "      <td>L3T4</td>\n",
       "      <td>Upper secondary and post-secondary non-tertiar...</td>\n",
       "      <td>M</td>\n",
       "      <td>Men</td>\n",
       "      <td>Y25T44</td>\n",
       "      <td>25-44 years</td>\n",
       "      <td>PARED2</td>\n",
       "      <td>At least one parent has attained secondary and...</td>\n",
       "      <td>PIAAC_SHARE_EA</td>\n",
       "      <td>Share of population by educational attainment</td>\n",
       "      <td>VALUE</td>\n",
       "      <td>Value</td>\n",
       "      <td>2012</td>\n",
       "      <td>2012</td>\n",
       "      <td>51.0</td>\n",
       "      <td>NaN</td>\n",
       "      <td>NaN</td>\n",
       "    </tr>\n",
       "    <tr>\n",
       "      <td>18</td>\n",
       "      <td>AUS</td>\n",
       "      <td>Australia</td>\n",
       "      <td>L3T4</td>\n",
       "      <td>Upper secondary and post-secondary non-tertiar...</td>\n",
       "      <td>T</td>\n",
       "      <td>Total</td>\n",
       "      <td>Y25T44</td>\n",
       "      <td>25-44 years</td>\n",
       "      <td>PARED3</td>\n",
       "      <td>At least one parent has attained tertiary</td>\n",
       "      <td>PIAAC_SHARE_EA</td>\n",
       "      <td>Share of population by educational attainment</td>\n",
       "      <td>VALUE</td>\n",
       "      <td>Value</td>\n",
       "      <td>2012</td>\n",
       "      <td>2012</td>\n",
       "      <td>25.0</td>\n",
       "      <td>NaN</td>\n",
       "      <td>NaN</td>\n",
       "    </tr>\n",
       "    <tr>\n",
       "      <td>19</td>\n",
       "      <td>AUS</td>\n",
       "      <td>Australia</td>\n",
       "      <td>L3T4</td>\n",
       "      <td>Upper secondary and post-secondary non-tertiar...</td>\n",
       "      <td>F</td>\n",
       "      <td>Women</td>\n",
       "      <td>Y25T44</td>\n",
       "      <td>25-44 years</td>\n",
       "      <td>PARED3</td>\n",
       "      <td>At least one parent has attained tertiary</td>\n",
       "      <td>PIAAC_SHARE_EA</td>\n",
       "      <td>Share of population by educational attainment</td>\n",
       "      <td>VALUE</td>\n",
       "      <td>Value</td>\n",
       "      <td>2012</td>\n",
       "      <td>2012</td>\n",
       "      <td>16.0</td>\n",
       "      <td>NaN</td>\n",
       "      <td>NaN</td>\n",
       "    </tr>\n",
       "    <tr>\n",
       "      <td>20</td>\n",
       "      <td>AUS</td>\n",
       "      <td>Australia</td>\n",
       "      <td>L3T4</td>\n",
       "      <td>Upper secondary and post-secondary non-tertiar...</td>\n",
       "      <td>M</td>\n",
       "      <td>Men</td>\n",
       "      <td>Y25T44</td>\n",
       "      <td>25-44 years</td>\n",
       "      <td>PARED3</td>\n",
       "      <td>At least one parent has attained tertiary</td>\n",
       "      <td>PIAAC_SHARE_EA</td>\n",
       "      <td>Share of population by educational attainment</td>\n",
       "      <td>VALUE</td>\n",
       "      <td>Value</td>\n",
       "      <td>2012</td>\n",
       "      <td>2012</td>\n",
       "      <td>33.0</td>\n",
       "      <td>NaN</td>\n",
       "      <td>NaN</td>\n",
       "    </tr>\n",
       "    <tr>\n",
       "      <td>21</td>\n",
       "      <td>AUS</td>\n",
       "      <td>Australia</td>\n",
       "      <td>L3T4</td>\n",
       "      <td>Upper secondary and post-secondary non-tertiar...</td>\n",
       "      <td>T</td>\n",
       "      <td>Total</td>\n",
       "      <td>Y25T44</td>\n",
       "      <td>25-44 years</td>\n",
       "      <td>_T</td>\n",
       "      <td>Total</td>\n",
       "      <td>PIAAC_SHARE_EA</td>\n",
       "      <td>Share of population by educational attainment</td>\n",
       "      <td>VALUE</td>\n",
       "      <td>Value</td>\n",
       "      <td>2012</td>\n",
       "      <td>2012</td>\n",
       "      <td>38.0</td>\n",
       "      <td>NaN</td>\n",
       "      <td>NaN</td>\n",
       "    </tr>\n",
       "    <tr>\n",
       "      <td>22</td>\n",
       "      <td>AUS</td>\n",
       "      <td>Australia</td>\n",
       "      <td>L3T4</td>\n",
       "      <td>Upper secondary and post-secondary non-tertiar...</td>\n",
       "      <td>F</td>\n",
       "      <td>Women</td>\n",
       "      <td>Y25T44</td>\n",
       "      <td>25-44 years</td>\n",
       "      <td>_T</td>\n",
       "      <td>Total</td>\n",
       "      <td>PIAAC_SHARE_EA</td>\n",
       "      <td>Share of population by educational attainment</td>\n",
       "      <td>VALUE</td>\n",
       "      <td>Value</td>\n",
       "      <td>2012</td>\n",
       "      <td>2012</td>\n",
       "      <td>32.0</td>\n",
       "      <td>NaN</td>\n",
       "      <td>NaN</td>\n",
       "    </tr>\n",
       "    <tr>\n",
       "      <td>23</td>\n",
       "      <td>AUS</td>\n",
       "      <td>Australia</td>\n",
       "      <td>L3T4</td>\n",
       "      <td>Upper secondary and post-secondary non-tertiar...</td>\n",
       "      <td>M</td>\n",
       "      <td>Men</td>\n",
       "      <td>Y25T44</td>\n",
       "      <td>25-44 years</td>\n",
       "      <td>_T</td>\n",
       "      <td>Total</td>\n",
       "      <td>PIAAC_SHARE_EA</td>\n",
       "      <td>Share of population by educational attainment</td>\n",
       "      <td>VALUE</td>\n",
       "      <td>Value</td>\n",
       "      <td>2012</td>\n",
       "      <td>2012</td>\n",
       "      <td>44.0</td>\n",
       "      <td>NaN</td>\n",
       "      <td>NaN</td>\n",
       "    </tr>\n",
       "    <tr>\n",
       "      <td>24</td>\n",
       "      <td>AUS</td>\n",
       "      <td>Australia</td>\n",
       "      <td>L5T8</td>\n",
       "      <td>Tertiary education</td>\n",
       "      <td>T</td>\n",
       "      <td>Total</td>\n",
       "      <td>Y25T44</td>\n",
       "      <td>25-44 years</td>\n",
       "      <td>PARED1</td>\n",
       "      <td>Neither parent has attained upper secondary</td>\n",
       "      <td>PIAAC_SHARE_EA</td>\n",
       "      <td>Share of population by educational attainment</td>\n",
       "      <td>VALUE</td>\n",
       "      <td>Value</td>\n",
       "      <td>2012</td>\n",
       "      <td>2012</td>\n",
       "      <td>29.0</td>\n",
       "      <td>NaN</td>\n",
       "      <td>NaN</td>\n",
       "    </tr>\n",
       "    <tr>\n",
       "      <td>25</td>\n",
       "      <td>AUS</td>\n",
       "      <td>Australia</td>\n",
       "      <td>L5T8</td>\n",
       "      <td>Tertiary education</td>\n",
       "      <td>F</td>\n",
       "      <td>Women</td>\n",
       "      <td>Y25T44</td>\n",
       "      <td>25-44 years</td>\n",
       "      <td>PARED1</td>\n",
       "      <td>Neither parent has attained upper secondary</td>\n",
       "      <td>PIAAC_SHARE_EA</td>\n",
       "      <td>Share of population by educational attainment</td>\n",
       "      <td>VALUE</td>\n",
       "      <td>Value</td>\n",
       "      <td>2012</td>\n",
       "      <td>2012</td>\n",
       "      <td>31.0</td>\n",
       "      <td>NaN</td>\n",
       "      <td>NaN</td>\n",
       "    </tr>\n",
       "    <tr>\n",
       "      <td>26</td>\n",
       "      <td>AUS</td>\n",
       "      <td>Australia</td>\n",
       "      <td>L5T8</td>\n",
       "      <td>Tertiary education</td>\n",
       "      <td>M</td>\n",
       "      <td>Men</td>\n",
       "      <td>Y25T44</td>\n",
       "      <td>25-44 years</td>\n",
       "      <td>PARED1</td>\n",
       "      <td>Neither parent has attained upper secondary</td>\n",
       "      <td>PIAAC_SHARE_EA</td>\n",
       "      <td>Share of population by educational attainment</td>\n",
       "      <td>VALUE</td>\n",
       "      <td>Value</td>\n",
       "      <td>2012</td>\n",
       "      <td>2012</td>\n",
       "      <td>27.0</td>\n",
       "      <td>NaN</td>\n",
       "      <td>NaN</td>\n",
       "    </tr>\n",
       "    <tr>\n",
       "      <td>27</td>\n",
       "      <td>AUS</td>\n",
       "      <td>Australia</td>\n",
       "      <td>L5T8</td>\n",
       "      <td>Tertiary education</td>\n",
       "      <td>T</td>\n",
       "      <td>Total</td>\n",
       "      <td>Y25T44</td>\n",
       "      <td>25-44 years</td>\n",
       "      <td>PARED2</td>\n",
       "      <td>At least one parent has attained secondary and...</td>\n",
       "      <td>PIAAC_SHARE_EA</td>\n",
       "      <td>Share of population by educational attainment</td>\n",
       "      <td>VALUE</td>\n",
       "      <td>Value</td>\n",
       "      <td>2012</td>\n",
       "      <td>2012</td>\n",
       "      <td>37.0</td>\n",
       "      <td>NaN</td>\n",
       "      <td>NaN</td>\n",
       "    </tr>\n",
       "    <tr>\n",
       "      <td>28</td>\n",
       "      <td>AUS</td>\n",
       "      <td>Australia</td>\n",
       "      <td>L5T8</td>\n",
       "      <td>Tertiary education</td>\n",
       "      <td>F</td>\n",
       "      <td>Women</td>\n",
       "      <td>Y25T44</td>\n",
       "      <td>25-44 years</td>\n",
       "      <td>PARED2</td>\n",
       "      <td>At least one parent has attained secondary and...</td>\n",
       "      <td>PIAAC_SHARE_EA</td>\n",
       "      <td>Share of population by educational attainment</td>\n",
       "      <td>VALUE</td>\n",
       "      <td>Value</td>\n",
       "      <td>2012</td>\n",
       "      <td>2012</td>\n",
       "      <td>45.0</td>\n",
       "      <td>NaN</td>\n",
       "      <td>NaN</td>\n",
       "    </tr>\n",
       "    <tr>\n",
       "      <td>29</td>\n",
       "      <td>AUS</td>\n",
       "      <td>Australia</td>\n",
       "      <td>L5T8</td>\n",
       "      <td>Tertiary education</td>\n",
       "      <td>M</td>\n",
       "      <td>Men</td>\n",
       "      <td>Y25T44</td>\n",
       "      <td>25-44 years</td>\n",
       "      <td>PARED2</td>\n",
       "      <td>At least one parent has attained secondary and...</td>\n",
       "      <td>PIAAC_SHARE_EA</td>\n",
       "      <td>Share of population by educational attainment</td>\n",
       "      <td>VALUE</td>\n",
       "      <td>Value</td>\n",
       "      <td>2012</td>\n",
       "      <td>2012</td>\n",
       "      <td>30.0</td>\n",
       "      <td>NaN</td>\n",
       "      <td>NaN</td>\n",
       "    </tr>\n",
       "  </tbody>\n",
       "</table>\n",
       "</div>"
      ],
      "text/plain": [
       "   COUNTRY    Country ISC11A  \\\n",
       "0      AUS  Australia   L0T2   \n",
       "1      AUS  Australia   L0T2   \n",
       "2      AUS  Australia   L0T2   \n",
       "3      AUS  Australia   L0T2   \n",
       "4      AUS  Australia   L0T2   \n",
       "5      AUS  Australia   L0T2   \n",
       "6      AUS  Australia   L0T2   \n",
       "7      AUS  Australia   L0T2   \n",
       "8      AUS  Australia   L0T2   \n",
       "9      AUS  Australia   L0T2   \n",
       "10     AUS  Australia   L0T2   \n",
       "11     AUS  Australia   L0T2   \n",
       "12     AUS  Australia   L3T4   \n",
       "13     AUS  Australia   L3T4   \n",
       "14     AUS  Australia   L3T4   \n",
       "15     AUS  Australia   L3T4   \n",
       "16     AUS  Australia   L3T4   \n",
       "17     AUS  Australia   L3T4   \n",
       "18     AUS  Australia   L3T4   \n",
       "19     AUS  Australia   L3T4   \n",
       "20     AUS  Australia   L3T4   \n",
       "21     AUS  Australia   L3T4   \n",
       "22     AUS  Australia   L3T4   \n",
       "23     AUS  Australia   L3T4   \n",
       "24     AUS  Australia   L5T8   \n",
       "25     AUS  Australia   L5T8   \n",
       "26     AUS  Australia   L5T8   \n",
       "27     AUS  Australia   L5T8   \n",
       "28     AUS  Australia   L5T8   \n",
       "29     AUS  Australia   L5T8   \n",
       "\n",
       "                                         ISCED-A 2011 SEX Gender     AGE  \\\n",
       "0                     Below upper secondary education   T  Total  Y25T44   \n",
       "1                     Below upper secondary education   F  Women  Y25T44   \n",
       "2                     Below upper secondary education   M    Men  Y25T44   \n",
       "3                     Below upper secondary education   T  Total  Y25T44   \n",
       "4                     Below upper secondary education   F  Women  Y25T44   \n",
       "5                     Below upper secondary education   M    Men  Y25T44   \n",
       "6                     Below upper secondary education   T  Total  Y25T44   \n",
       "7                     Below upper secondary education   F  Women  Y25T44   \n",
       "8                     Below upper secondary education   M    Men  Y25T44   \n",
       "9                     Below upper secondary education   T  Total  Y25T44   \n",
       "10                    Below upper secondary education   F  Women  Y25T44   \n",
       "11                    Below upper secondary education   M    Men  Y25T44   \n",
       "12  Upper secondary and post-secondary non-tertiar...   T  Total  Y25T44   \n",
       "13  Upper secondary and post-secondary non-tertiar...   F  Women  Y25T44   \n",
       "14  Upper secondary and post-secondary non-tertiar...   M    Men  Y25T44   \n",
       "15  Upper secondary and post-secondary non-tertiar...   T  Total  Y25T44   \n",
       "16  Upper secondary and post-secondary non-tertiar...   F  Women  Y25T44   \n",
       "17  Upper secondary and post-secondary non-tertiar...   M    Men  Y25T44   \n",
       "18  Upper secondary and post-secondary non-tertiar...   T  Total  Y25T44   \n",
       "19  Upper secondary and post-secondary non-tertiar...   F  Women  Y25T44   \n",
       "20  Upper secondary and post-secondary non-tertiar...   M    Men  Y25T44   \n",
       "21  Upper secondary and post-secondary non-tertiar...   T  Total  Y25T44   \n",
       "22  Upper secondary and post-secondary non-tertiar...   F  Women  Y25T44   \n",
       "23  Upper secondary and post-secondary non-tertiar...   M    Men  Y25T44   \n",
       "24                                 Tertiary education   T  Total  Y25T44   \n",
       "25                                 Tertiary education   F  Women  Y25T44   \n",
       "26                                 Tertiary education   M    Men  Y25T44   \n",
       "27                                 Tertiary education   T  Total  Y25T44   \n",
       "28                                 Tertiary education   F  Women  Y25T44   \n",
       "29                                 Tertiary education   M    Men  Y25T44   \n",
       "\n",
       "            Age PIAAC_CATEGORY  \\\n",
       "0   25-44 years         PARED1   \n",
       "1   25-44 years         PARED1   \n",
       "2   25-44 years         PARED1   \n",
       "3   25-44 years         PARED2   \n",
       "4   25-44 years         PARED2   \n",
       "5   25-44 years         PARED2   \n",
       "6   25-44 years         PARED3   \n",
       "7   25-44 years         PARED3   \n",
       "8   25-44 years         PARED3   \n",
       "9   25-44 years             _T   \n",
       "10  25-44 years             _T   \n",
       "11  25-44 years             _T   \n",
       "12  25-44 years         PARED1   \n",
       "13  25-44 years         PARED1   \n",
       "14  25-44 years         PARED1   \n",
       "15  25-44 years         PARED2   \n",
       "16  25-44 years         PARED2   \n",
       "17  25-44 years         PARED2   \n",
       "18  25-44 years         PARED3   \n",
       "19  25-44 years         PARED3   \n",
       "20  25-44 years         PARED3   \n",
       "21  25-44 years             _T   \n",
       "22  25-44 years             _T   \n",
       "23  25-44 years             _T   \n",
       "24  25-44 years         PARED1   \n",
       "25  25-44 years         PARED1   \n",
       "26  25-44 years         PARED1   \n",
       "27  25-44 years         PARED2   \n",
       "28  25-44 years         PARED2   \n",
       "29  25-44 years         PARED2   \n",
       "\n",
       "                                             Category       INDICATOR  \\\n",
       "0         Neither parent has attained upper secondary  PIAAC_SHARE_EA   \n",
       "1         Neither parent has attained upper secondary  PIAAC_SHARE_EA   \n",
       "2         Neither parent has attained upper secondary  PIAAC_SHARE_EA   \n",
       "3   At least one parent has attained secondary and...  PIAAC_SHARE_EA   \n",
       "4   At least one parent has attained secondary and...  PIAAC_SHARE_EA   \n",
       "5   At least one parent has attained secondary and...  PIAAC_SHARE_EA   \n",
       "6           At least one parent has attained tertiary  PIAAC_SHARE_EA   \n",
       "7           At least one parent has attained tertiary  PIAAC_SHARE_EA   \n",
       "8           At least one parent has attained tertiary  PIAAC_SHARE_EA   \n",
       "9                                               Total  PIAAC_SHARE_EA   \n",
       "10                                              Total  PIAAC_SHARE_EA   \n",
       "11                                              Total  PIAAC_SHARE_EA   \n",
       "12        Neither parent has attained upper secondary  PIAAC_SHARE_EA   \n",
       "13        Neither parent has attained upper secondary  PIAAC_SHARE_EA   \n",
       "14        Neither parent has attained upper secondary  PIAAC_SHARE_EA   \n",
       "15  At least one parent has attained secondary and...  PIAAC_SHARE_EA   \n",
       "16  At least one parent has attained secondary and...  PIAAC_SHARE_EA   \n",
       "17  At least one parent has attained secondary and...  PIAAC_SHARE_EA   \n",
       "18          At least one parent has attained tertiary  PIAAC_SHARE_EA   \n",
       "19          At least one parent has attained tertiary  PIAAC_SHARE_EA   \n",
       "20          At least one parent has attained tertiary  PIAAC_SHARE_EA   \n",
       "21                                              Total  PIAAC_SHARE_EA   \n",
       "22                                              Total  PIAAC_SHARE_EA   \n",
       "23                                              Total  PIAAC_SHARE_EA   \n",
       "24        Neither parent has attained upper secondary  PIAAC_SHARE_EA   \n",
       "25        Neither parent has attained upper secondary  PIAAC_SHARE_EA   \n",
       "26        Neither parent has attained upper secondary  PIAAC_SHARE_EA   \n",
       "27  At least one parent has attained secondary and...  PIAAC_SHARE_EA   \n",
       "28  At least one parent has attained secondary and...  PIAAC_SHARE_EA   \n",
       "29  At least one parent has attained secondary and...  PIAAC_SHARE_EA   \n",
       "\n",
       "                                        Indicator MEASURE Measure  YEAR  \\\n",
       "0   Share of population by educational attainment   VALUE   Value  2012   \n",
       "1   Share of population by educational attainment   VALUE   Value  2012   \n",
       "2   Share of population by educational attainment   VALUE   Value  2012   \n",
       "3   Share of population by educational attainment   VALUE   Value  2012   \n",
       "4   Share of population by educational attainment   VALUE   Value  2012   \n",
       "5   Share of population by educational attainment   VALUE   Value  2012   \n",
       "6   Share of population by educational attainment   VALUE   Value  2012   \n",
       "7   Share of population by educational attainment   VALUE   Value  2012   \n",
       "8   Share of population by educational attainment   VALUE   Value  2012   \n",
       "9   Share of population by educational attainment   VALUE   Value  2012   \n",
       "10  Share of population by educational attainment   VALUE   Value  2012   \n",
       "11  Share of population by educational attainment   VALUE   Value  2012   \n",
       "12  Share of population by educational attainment   VALUE   Value  2012   \n",
       "13  Share of population by educational attainment   VALUE   Value  2012   \n",
       "14  Share of population by educational attainment   VALUE   Value  2012   \n",
       "15  Share of population by educational attainment   VALUE   Value  2012   \n",
       "16  Share of population by educational attainment   VALUE   Value  2012   \n",
       "17  Share of population by educational attainment   VALUE   Value  2012   \n",
       "18  Share of population by educational attainment   VALUE   Value  2012   \n",
       "19  Share of population by educational attainment   VALUE   Value  2012   \n",
       "20  Share of population by educational attainment   VALUE   Value  2012   \n",
       "21  Share of population by educational attainment   VALUE   Value  2012   \n",
       "22  Share of population by educational attainment   VALUE   Value  2012   \n",
       "23  Share of population by educational attainment   VALUE   Value  2012   \n",
       "24  Share of population by educational attainment   VALUE   Value  2012   \n",
       "25  Share of population by educational attainment   VALUE   Value  2012   \n",
       "26  Share of population by educational attainment   VALUE   Value  2012   \n",
       "27  Share of population by educational attainment   VALUE   Value  2012   \n",
       "28  Share of population by educational attainment   VALUE   Value  2012   \n",
       "29  Share of population by educational attainment   VALUE   Value  2012   \n",
       "\n",
       "    Reference year  Value Flag Codes Flags  \n",
       "0             2012   25.0        NaN   NaN  \n",
       "1             2012   27.0        NaN   NaN  \n",
       "2             2012   24.0        NaN   NaN  \n",
       "3             2012   18.0        NaN   NaN  \n",
       "4             2012   17.0        NaN   NaN  \n",
       "5             2012   19.0        NaN   NaN  \n",
       "6             2012    6.0        NaN   NaN  \n",
       "7             2012    6.0        NaN   NaN  \n",
       "8             2012    6.0        NaN   NaN  \n",
       "9             2012   17.0        NaN   NaN  \n",
       "10            2012   17.0        NaN   NaN  \n",
       "11            2012   17.0        NaN   NaN  \n",
       "12            2012   46.0        NaN   NaN  \n",
       "13            2012   42.0        NaN   NaN  \n",
       "14            2012   49.0        NaN   NaN  \n",
       "15            2012   45.0        NaN   NaN  \n",
       "16            2012   38.0        NaN   NaN  \n",
       "17            2012   51.0        NaN   NaN  \n",
       "18            2012   25.0        NaN   NaN  \n",
       "19            2012   16.0        NaN   NaN  \n",
       "20            2012   33.0        NaN   NaN  \n",
       "21            2012   38.0        NaN   NaN  \n",
       "22            2012   32.0        NaN   NaN  \n",
       "23            2012   44.0        NaN   NaN  \n",
       "24            2012   29.0        NaN   NaN  \n",
       "25            2012   31.0        NaN   NaN  \n",
       "26            2012   27.0        NaN   NaN  \n",
       "27            2012   37.0        NaN   NaN  \n",
       "28            2012   45.0        NaN   NaN  \n",
       "29            2012   30.0        NaN   NaN  "
      ]
     },
     "execution_count": 4,
     "metadata": {},
     "output_type": "execute_result"
    }
   ],
   "source": [
    "edu = pd.read_csv(\"edu.csv\")\n",
    "edu.head(30)"
   ]
  },
  {
   "cell_type": "code",
   "execution_count": 5,
   "metadata": {},
   "outputs": [],
   "source": [
    "del edu['COUNTRY']"
   ]
  },
  {
   "cell_type": "code",
   "execution_count": 6,
   "metadata": {},
   "outputs": [],
   "source": [
    "del edu[\"ISC11A\"]"
   ]
  },
  {
   "cell_type": "code",
   "execution_count": 7,
   "metadata": {},
   "outputs": [],
   "source": [
    "del edu[\"AGE\"]"
   ]
  },
  {
   "cell_type": "code",
   "execution_count": 8,
   "metadata": {},
   "outputs": [],
   "source": [
    "del edu[\"PIAAC_CATEGORY\"]"
   ]
  },
  {
   "cell_type": "code",
   "execution_count": 9,
   "metadata": {},
   "outputs": [],
   "source": [
    "del edu[\"INDICATOR\"]"
   ]
  },
  {
   "cell_type": "code",
   "execution_count": 10,
   "metadata": {},
   "outputs": [],
   "source": [
    "del edu[\"Indicator\"]"
   ]
  },
  {
   "cell_type": "code",
   "execution_count": 11,
   "metadata": {},
   "outputs": [],
   "source": [
    "del edu[\"Measure\"]"
   ]
  },
  {
   "cell_type": "code",
   "execution_count": 12,
   "metadata": {},
   "outputs": [],
   "source": [
    "del edu[\"Reference year\"]"
   ]
  },
  {
   "cell_type": "code",
   "execution_count": 13,
   "metadata": {},
   "outputs": [],
   "source": [
    "del edu[\"Flag Codes\"]"
   ]
  },
  {
   "cell_type": "code",
   "execution_count": 14,
   "metadata": {},
   "outputs": [],
   "source": [
    "del edu[\"Flags\"]"
   ]
  },
  {
   "cell_type": "code",
   "execution_count": 15,
   "metadata": {},
   "outputs": [],
   "source": [
    "del edu[\"Age\"]"
   ]
  },
  {
   "cell_type": "code",
   "execution_count": 16,
   "metadata": {},
   "outputs": [],
   "source": [
    "del edu[\"Gender\"]"
   ]
  },
  {
   "cell_type": "code",
   "execution_count": 17,
   "metadata": {},
   "outputs": [],
   "source": [
    "del edu[\"MEASURE\"]"
   ]
  },
  {
   "cell_type": "code",
   "execution_count": 18,
   "metadata": {},
   "outputs": [],
   "source": [
    " del edu[\"YEAR\"]"
   ]
  },
  {
   "cell_type": "code",
   "execution_count": 19,
   "metadata": {},
   "outputs": [
    {
     "data": {
      "text/html": [
       "<div>\n",
       "<style scoped>\n",
       "    .dataframe tbody tr th:only-of-type {\n",
       "        vertical-align: middle;\n",
       "    }\n",
       "\n",
       "    .dataframe tbody tr th {\n",
       "        vertical-align: top;\n",
       "    }\n",
       "\n",
       "    .dataframe thead th {\n",
       "        text-align: right;\n",
       "    }\n",
       "</style>\n",
       "<table border=\"1\" class=\"dataframe\">\n",
       "  <thead>\n",
       "    <tr style=\"text-align: right;\">\n",
       "      <th></th>\n",
       "      <th>Country</th>\n",
       "      <th>ISCED-A 2011</th>\n",
       "      <th>SEX</th>\n",
       "      <th>Category</th>\n",
       "      <th>Value</th>\n",
       "    </tr>\n",
       "  </thead>\n",
       "  <tbody>\n",
       "    <tr>\n",
       "      <td>0</td>\n",
       "      <td>Australia</td>\n",
       "      <td>Below upper secondary education</td>\n",
       "      <td>T</td>\n",
       "      <td>Neither parent has attained upper secondary</td>\n",
       "      <td>25.0</td>\n",
       "    </tr>\n",
       "    <tr>\n",
       "      <td>1</td>\n",
       "      <td>Australia</td>\n",
       "      <td>Below upper secondary education</td>\n",
       "      <td>F</td>\n",
       "      <td>Neither parent has attained upper secondary</td>\n",
       "      <td>27.0</td>\n",
       "    </tr>\n",
       "    <tr>\n",
       "      <td>2</td>\n",
       "      <td>Australia</td>\n",
       "      <td>Below upper secondary education</td>\n",
       "      <td>M</td>\n",
       "      <td>Neither parent has attained upper secondary</td>\n",
       "      <td>24.0</td>\n",
       "    </tr>\n",
       "    <tr>\n",
       "      <td>3</td>\n",
       "      <td>Australia</td>\n",
       "      <td>Below upper secondary education</td>\n",
       "      <td>T</td>\n",
       "      <td>At least one parent has attained secondary and...</td>\n",
       "      <td>18.0</td>\n",
       "    </tr>\n",
       "    <tr>\n",
       "      <td>4</td>\n",
       "      <td>Australia</td>\n",
       "      <td>Below upper secondary education</td>\n",
       "      <td>F</td>\n",
       "      <td>At least one parent has attained secondary and...</td>\n",
       "      <td>17.0</td>\n",
       "    </tr>\n",
       "    <tr>\n",
       "      <td>...</td>\n",
       "      <td>...</td>\n",
       "      <td>...</td>\n",
       "      <td>...</td>\n",
       "      <td>...</td>\n",
       "      <td>...</td>\n",
       "    </tr>\n",
       "    <tr>\n",
       "      <td>751</td>\n",
       "      <td>Slovenia</td>\n",
       "      <td>Tertiary education</td>\n",
       "      <td>F</td>\n",
       "      <td>At least one parent has attained tertiary</td>\n",
       "      <td>73.0</td>\n",
       "    </tr>\n",
       "    <tr>\n",
       "      <td>752</td>\n",
       "      <td>Slovenia</td>\n",
       "      <td>Tertiary education</td>\n",
       "      <td>M</td>\n",
       "      <td>At least one parent has attained tertiary</td>\n",
       "      <td>50.0</td>\n",
       "    </tr>\n",
       "    <tr>\n",
       "      <td>753</td>\n",
       "      <td>Slovenia</td>\n",
       "      <td>Tertiary education</td>\n",
       "      <td>T</td>\n",
       "      <td>Total</td>\n",
       "      <td>33.0</td>\n",
       "    </tr>\n",
       "    <tr>\n",
       "      <td>754</td>\n",
       "      <td>Slovenia</td>\n",
       "      <td>Tertiary education</td>\n",
       "      <td>F</td>\n",
       "      <td>Total</td>\n",
       "      <td>44.0</td>\n",
       "    </tr>\n",
       "    <tr>\n",
       "      <td>755</td>\n",
       "      <td>Slovenia</td>\n",
       "      <td>Tertiary education</td>\n",
       "      <td>M</td>\n",
       "      <td>Total</td>\n",
       "      <td>24.0</td>\n",
       "    </tr>\n",
       "  </tbody>\n",
       "</table>\n",
       "<p>756 rows × 5 columns</p>\n",
       "</div>"
      ],
      "text/plain": [
       "       Country                     ISCED-A 2011 SEX  \\\n",
       "0    Australia  Below upper secondary education   T   \n",
       "1    Australia  Below upper secondary education   F   \n",
       "2    Australia  Below upper secondary education   M   \n",
       "3    Australia  Below upper secondary education   T   \n",
       "4    Australia  Below upper secondary education   F   \n",
       "..         ...                              ...  ..   \n",
       "751   Slovenia               Tertiary education   F   \n",
       "752   Slovenia               Tertiary education   M   \n",
       "753   Slovenia               Tertiary education   T   \n",
       "754   Slovenia               Tertiary education   F   \n",
       "755   Slovenia               Tertiary education   M   \n",
       "\n",
       "                                              Category  Value  \n",
       "0          Neither parent has attained upper secondary   25.0  \n",
       "1          Neither parent has attained upper secondary   27.0  \n",
       "2          Neither parent has attained upper secondary   24.0  \n",
       "3    At least one parent has attained secondary and...   18.0  \n",
       "4    At least one parent has attained secondary and...   17.0  \n",
       "..                                                 ...    ...  \n",
       "751          At least one parent has attained tertiary   73.0  \n",
       "752          At least one parent has attained tertiary   50.0  \n",
       "753                                              Total   33.0  \n",
       "754                                              Total   44.0  \n",
       "755                                              Total   24.0  \n",
       "\n",
       "[756 rows x 5 columns]"
      ]
     },
     "execution_count": 19,
     "metadata": {},
     "output_type": "execute_result"
    }
   ],
   "source": [
    "edu"
   ]
  },
  {
   "cell_type": "code",
   "execution_count": 20,
   "metadata": {},
   "outputs": [],
   "source": [
    "edu = edu.loc[edu['Category']!= 'Total']"
   ]
  },
  {
   "cell_type": "code",
   "execution_count": null,
   "metadata": {},
   "outputs": [],
   "source": []
  },
  {
   "cell_type": "code",
   "execution_count": 21,
   "metadata": {},
   "outputs": [],
   "source": [
    "edu = edu.rename(columns={\"Country\" : \"국가\", \"ISCED-A 2011\" : \"본인교육수준\", \"SEX\" : \"성별\", \"Category\" : \"부모교육수준\", \n",
    "                          \"MEASURE\" : \"통계치\", \"Value\" : \"값\"})"
   ]
  },
  {
   "cell_type": "code",
   "execution_count": 22,
   "metadata": {},
   "outputs": [],
   "source": [
    "edu[\"본인교육수준\"] = edu[\"본인교육수준\"].replace(\"Below upper secondary education\",\"중졸이하\")"
   ]
  },
  {
   "cell_type": "code",
   "execution_count": 23,
   "metadata": {},
   "outputs": [],
   "source": [
    "edu[\"본인교육수준\"] = edu[\"본인교육수준\"].replace(\"Upper secondary and post-secondary non-tertiary education\",\"고졸\")"
   ]
  },
  {
   "cell_type": "code",
   "execution_count": 24,
   "metadata": {},
   "outputs": [],
   "source": [
    "edu[\"본인교육수준\"] = edu[\"본인교육수준\"].replace(\"Tertiary education\",\"대졸이상\")"
   ]
  },
  {
   "cell_type": "code",
   "execution_count": 25,
   "metadata": {},
   "outputs": [],
   "source": [
    "edu[\"부모교육수준\"] = edu[\"부모교육수준\"].replace(\"At least one parent has attained secondary and post-secondary, non-tertiary\",\"한명이상고졸\")"
   ]
  },
  {
   "cell_type": "code",
   "execution_count": 26,
   "metadata": {},
   "outputs": [],
   "source": [
    "edu[\"부모교육수준\"] = edu[\"부모교육수준\"].replace(\"Neither parent has attained upper secondary\",\"부모모두중졸이하\")"
   ]
  },
  {
   "cell_type": "code",
   "execution_count": 27,
   "metadata": {},
   "outputs": [],
   "source": [
    "edu[\"부모교육수준\"] = edu[\"부모교육수준\"].replace(\"At least one parent has attained tertiary\",\"한명이상대졸이상\")"
   ]
  },
  {
   "cell_type": "code",
   "execution_count": 28,
   "metadata": {},
   "outputs": [],
   "source": [
    "edu[\"부모교육수준\"] = edu[\"부모교육수준\"].replace(\"Total\",\"총합\")"
   ]
  },
  {
   "cell_type": "code",
   "execution_count": 29,
   "metadata": {},
   "outputs": [
    {
     "data": {
      "text/html": [
       "<div>\n",
       "<style scoped>\n",
       "    .dataframe tbody tr th:only-of-type {\n",
       "        vertical-align: middle;\n",
       "    }\n",
       "\n",
       "    .dataframe tbody tr th {\n",
       "        vertical-align: top;\n",
       "    }\n",
       "\n",
       "    .dataframe thead th {\n",
       "        text-align: right;\n",
       "    }\n",
       "</style>\n",
       "<table border=\"1\" class=\"dataframe\">\n",
       "  <thead>\n",
       "    <tr style=\"text-align: right;\">\n",
       "      <th></th>\n",
       "      <th>국가</th>\n",
       "      <th>본인교육수준</th>\n",
       "      <th>성별</th>\n",
       "      <th>부모교육수준</th>\n",
       "      <th>값</th>\n",
       "    </tr>\n",
       "  </thead>\n",
       "  <tbody>\n",
       "    <tr>\n",
       "      <td>0</td>\n",
       "      <td>Australia</td>\n",
       "      <td>중졸이하</td>\n",
       "      <td>T</td>\n",
       "      <td>부모모두중졸이하</td>\n",
       "      <td>25.0</td>\n",
       "    </tr>\n",
       "    <tr>\n",
       "      <td>1</td>\n",
       "      <td>Australia</td>\n",
       "      <td>중졸이하</td>\n",
       "      <td>F</td>\n",
       "      <td>부모모두중졸이하</td>\n",
       "      <td>27.0</td>\n",
       "    </tr>\n",
       "    <tr>\n",
       "      <td>2</td>\n",
       "      <td>Australia</td>\n",
       "      <td>중졸이하</td>\n",
       "      <td>M</td>\n",
       "      <td>부모모두중졸이하</td>\n",
       "      <td>24.0</td>\n",
       "    </tr>\n",
       "    <tr>\n",
       "      <td>3</td>\n",
       "      <td>Australia</td>\n",
       "      <td>중졸이하</td>\n",
       "      <td>T</td>\n",
       "      <td>한명이상고졸</td>\n",
       "      <td>18.0</td>\n",
       "    </tr>\n",
       "    <tr>\n",
       "      <td>4</td>\n",
       "      <td>Australia</td>\n",
       "      <td>중졸이하</td>\n",
       "      <td>F</td>\n",
       "      <td>한명이상고졸</td>\n",
       "      <td>17.0</td>\n",
       "    </tr>\n",
       "    <tr>\n",
       "      <td>...</td>\n",
       "      <td>...</td>\n",
       "      <td>...</td>\n",
       "      <td>...</td>\n",
       "      <td>...</td>\n",
       "      <td>...</td>\n",
       "    </tr>\n",
       "    <tr>\n",
       "      <td>748</td>\n",
       "      <td>Slovenia</td>\n",
       "      <td>대졸이상</td>\n",
       "      <td>F</td>\n",
       "      <td>한명이상고졸</td>\n",
       "      <td>47.0</td>\n",
       "    </tr>\n",
       "    <tr>\n",
       "      <td>749</td>\n",
       "      <td>Slovenia</td>\n",
       "      <td>대졸이상</td>\n",
       "      <td>M</td>\n",
       "      <td>한명이상고졸</td>\n",
       "      <td>22.0</td>\n",
       "    </tr>\n",
       "    <tr>\n",
       "      <td>750</td>\n",
       "      <td>Slovenia</td>\n",
       "      <td>대졸이상</td>\n",
       "      <td>T</td>\n",
       "      <td>한명이상대졸이상</td>\n",
       "      <td>60.0</td>\n",
       "    </tr>\n",
       "    <tr>\n",
       "      <td>751</td>\n",
       "      <td>Slovenia</td>\n",
       "      <td>대졸이상</td>\n",
       "      <td>F</td>\n",
       "      <td>한명이상대졸이상</td>\n",
       "      <td>73.0</td>\n",
       "    </tr>\n",
       "    <tr>\n",
       "      <td>752</td>\n",
       "      <td>Slovenia</td>\n",
       "      <td>대졸이상</td>\n",
       "      <td>M</td>\n",
       "      <td>한명이상대졸이상</td>\n",
       "      <td>50.0</td>\n",
       "    </tr>\n",
       "  </tbody>\n",
       "</table>\n",
       "<p>567 rows × 5 columns</p>\n",
       "</div>"
      ],
      "text/plain": [
       "            국가 본인교육수준 성별    부모교육수준     값\n",
       "0    Australia   중졸이하  T  부모모두중졸이하  25.0\n",
       "1    Australia   중졸이하  F  부모모두중졸이하  27.0\n",
       "2    Australia   중졸이하  M  부모모두중졸이하  24.0\n",
       "3    Australia   중졸이하  T    한명이상고졸  18.0\n",
       "4    Australia   중졸이하  F    한명이상고졸  17.0\n",
       "..         ...    ... ..       ...   ...\n",
       "748   Slovenia   대졸이상  F    한명이상고졸  47.0\n",
       "749   Slovenia   대졸이상  M    한명이상고졸  22.0\n",
       "750   Slovenia   대졸이상  T  한명이상대졸이상  60.0\n",
       "751   Slovenia   대졸이상  F  한명이상대졸이상  73.0\n",
       "752   Slovenia   대졸이상  M  한명이상대졸이상  50.0\n",
       "\n",
       "[567 rows x 5 columns]"
      ]
     },
     "execution_count": 29,
     "metadata": {},
     "output_type": "execute_result"
    }
   ],
   "source": [
    " edu"
   ]
  },
  {
   "cell_type": "code",
   "execution_count": 30,
   "metadata": {},
   "outputs": [],
   "source": [
    "#edu[\"국가\"] = edu[\"국가\"].replace(\"Japan\",\"일본\") "
   ]
  },
  {
   "cell_type": "code",
   "execution_count": 31,
   "metadata": {},
   "outputs": [],
   "source": [
    "#edu[\"국가\"] = edu[\"국가\"].replace(\"Korea\",\"한국\") "
   ]
  },
  {
   "cell_type": "code",
   "execution_count": 32,
   "metadata": {},
   "outputs": [],
   "source": [
    "#edu[\"국가\"] = edu[\"국가\"].replace(\"United States\",\"미국\") "
   ]
  },
  {
   "cell_type": "code",
   "execution_count": 33,
   "metadata": {},
   "outputs": [],
   "source": [
    "#edu[\"국가\"] = edu[\"국가\"].replace(\"Germany\",\"독일\")"
   ]
  },
  {
   "cell_type": "code",
   "execution_count": 34,
   "metadata": {},
   "outputs": [],
   "source": [
    "#edu[\"성별\"] = edu[\"성별\"].replace(\"M\",\"남\")"
   ]
  },
  {
   "cell_type": "code",
   "execution_count": 35,
   "metadata": {},
   "outputs": [],
   "source": [
    "#edu[\"성별\"] = edu[\"성별\"].replace(\"F\",\"여\")"
   ]
  },
  {
   "cell_type": "code",
   "execution_count": 36,
   "metadata": {},
   "outputs": [
    {
     "data": {
      "text/html": [
       "<div>\n",
       "<style scoped>\n",
       "    .dataframe tbody tr th:only-of-type {\n",
       "        vertical-align: middle;\n",
       "    }\n",
       "\n",
       "    .dataframe tbody tr th {\n",
       "        vertical-align: top;\n",
       "    }\n",
       "\n",
       "    .dataframe thead th {\n",
       "        text-align: right;\n",
       "    }\n",
       "</style>\n",
       "<table border=\"1\" class=\"dataframe\">\n",
       "  <thead>\n",
       "    <tr style=\"text-align: right;\">\n",
       "      <th></th>\n",
       "      <th>국가</th>\n",
       "      <th>본인교육수준</th>\n",
       "      <th>성별</th>\n",
       "      <th>부모교육수준</th>\n",
       "      <th>값</th>\n",
       "    </tr>\n",
       "  </thead>\n",
       "  <tbody>\n",
       "    <tr>\n",
       "      <td>0</td>\n",
       "      <td>Australia</td>\n",
       "      <td>중졸이하</td>\n",
       "      <td>T</td>\n",
       "      <td>부모모두중졸이하</td>\n",
       "      <td>25.0</td>\n",
       "    </tr>\n",
       "    <tr>\n",
       "      <td>1</td>\n",
       "      <td>Australia</td>\n",
       "      <td>중졸이하</td>\n",
       "      <td>F</td>\n",
       "      <td>부모모두중졸이하</td>\n",
       "      <td>27.0</td>\n",
       "    </tr>\n",
       "    <tr>\n",
       "      <td>2</td>\n",
       "      <td>Australia</td>\n",
       "      <td>중졸이하</td>\n",
       "      <td>M</td>\n",
       "      <td>부모모두중졸이하</td>\n",
       "      <td>24.0</td>\n",
       "    </tr>\n",
       "    <tr>\n",
       "      <td>3</td>\n",
       "      <td>Australia</td>\n",
       "      <td>중졸이하</td>\n",
       "      <td>T</td>\n",
       "      <td>한명이상고졸</td>\n",
       "      <td>18.0</td>\n",
       "    </tr>\n",
       "    <tr>\n",
       "      <td>4</td>\n",
       "      <td>Australia</td>\n",
       "      <td>중졸이하</td>\n",
       "      <td>F</td>\n",
       "      <td>한명이상고졸</td>\n",
       "      <td>17.0</td>\n",
       "    </tr>\n",
       "    <tr>\n",
       "      <td>...</td>\n",
       "      <td>...</td>\n",
       "      <td>...</td>\n",
       "      <td>...</td>\n",
       "      <td>...</td>\n",
       "      <td>...</td>\n",
       "    </tr>\n",
       "    <tr>\n",
       "      <td>748</td>\n",
       "      <td>Slovenia</td>\n",
       "      <td>대졸이상</td>\n",
       "      <td>F</td>\n",
       "      <td>한명이상고졸</td>\n",
       "      <td>47.0</td>\n",
       "    </tr>\n",
       "    <tr>\n",
       "      <td>749</td>\n",
       "      <td>Slovenia</td>\n",
       "      <td>대졸이상</td>\n",
       "      <td>M</td>\n",
       "      <td>한명이상고졸</td>\n",
       "      <td>22.0</td>\n",
       "    </tr>\n",
       "    <tr>\n",
       "      <td>750</td>\n",
       "      <td>Slovenia</td>\n",
       "      <td>대졸이상</td>\n",
       "      <td>T</td>\n",
       "      <td>한명이상대졸이상</td>\n",
       "      <td>60.0</td>\n",
       "    </tr>\n",
       "    <tr>\n",
       "      <td>751</td>\n",
       "      <td>Slovenia</td>\n",
       "      <td>대졸이상</td>\n",
       "      <td>F</td>\n",
       "      <td>한명이상대졸이상</td>\n",
       "      <td>73.0</td>\n",
       "    </tr>\n",
       "    <tr>\n",
       "      <td>752</td>\n",
       "      <td>Slovenia</td>\n",
       "      <td>대졸이상</td>\n",
       "      <td>M</td>\n",
       "      <td>한명이상대졸이상</td>\n",
       "      <td>50.0</td>\n",
       "    </tr>\n",
       "  </tbody>\n",
       "</table>\n",
       "<p>567 rows × 5 columns</p>\n",
       "</div>"
      ],
      "text/plain": [
       "            국가 본인교육수준 성별    부모교육수준     값\n",
       "0    Australia   중졸이하  T  부모모두중졸이하  25.0\n",
       "1    Australia   중졸이하  F  부모모두중졸이하  27.0\n",
       "2    Australia   중졸이하  M  부모모두중졸이하  24.0\n",
       "3    Australia   중졸이하  T    한명이상고졸  18.0\n",
       "4    Australia   중졸이하  F    한명이상고졸  17.0\n",
       "..         ...    ... ..       ...   ...\n",
       "748   Slovenia   대졸이상  F    한명이상고졸  47.0\n",
       "749   Slovenia   대졸이상  M    한명이상고졸  22.0\n",
       "750   Slovenia   대졸이상  T  한명이상대졸이상  60.0\n",
       "751   Slovenia   대졸이상  F  한명이상대졸이상  73.0\n",
       "752   Slovenia   대졸이상  M  한명이상대졸이상  50.0\n",
       "\n",
       "[567 rows x 5 columns]"
      ]
     },
     "execution_count": 36,
     "metadata": {},
     "output_type": "execute_result"
    }
   ],
   "source": [
    "edu"
   ]
  },
  {
   "cell_type": "code",
   "execution_count": 37,
   "metadata": {},
   "outputs": [],
   "source": [
    "edu = edu.loc[edu[\"성별\"] != \"T\"]"
   ]
  },
  {
   "cell_type": "code",
   "execution_count": 38,
   "metadata": {},
   "outputs": [],
   "source": [
    "edu1 = edu[\"부모교육수준\"] == \"부모모두중줄이하\""
   ]
  },
  {
   "cell_type": "code",
   "execution_count": 39,
   "metadata": {},
   "outputs": [
    {
     "data": {
      "text/plain": [
       "<seaborn.axisgrid.FacetGrid at 0x1d7d973bec8>"
      ]
     },
     "execution_count": 39,
     "metadata": {},
     "output_type": "execute_result"
    },
    {
     "data": {
      "image/png": "[encoded data removed]",
      "text/plain": [
       "<Figure size 457.125x360 with 1 Axes>"
      ]
     },
     "metadata": {
      "needs_background": "light"
     },
     "output_type": "display_data"
    }
   ],
   "source": [
    "# 부모의 교육 수준이 '한명이상 고졸'인 경우 본인 교육수준 국가별 비교\n",
    "edu1\n",
    "sns.relplot(data = edu,x='본인교육수준',y='값', hue=\"국가\")"
   ]
  },
  {
   "cell_type": "code",
   "execution_count": 40,
   "metadata": {},
   "outputs": [],
   "source": [
    "# 부모의 교육 수준이 '한명 이상 대졸 이상'인 경우 본인 교육수준 국가별 비교"
   ]
  },
  {
   "cell_type": "code",
   "execution_count": 41,
   "metadata": {},
   "outputs": [
    {
     "data": {
      "text/plain": [
       "<seaborn.axisgrid.FacetGrid at 0x1d7d9b12cc8>"
      ]
     },
     "execution_count": 41,
     "metadata": {},
     "output_type": "execute_result"
    },
    {
     "data": {
      "image/png": "[encoded data removed]",
      "text/plain": [
       "<Figure size 432x432 with 4 Axes>"
      ]
     },
     "metadata": {
      "needs_background": "light"
     },
     "output_type": "display_data"
    }
   ],
   "source": [
    "import numpy as np\n",
    "import seaborn as sns\n",
    "import matplotlib.pyplot as plt\n",
    " \n",
    "tips = sns.load_dataset(\"tips\")\n",
    "g = sns.FacetGrid(tips, row=\"sex\", col=\"time\", margin_titles=True)\n",
    "bins = np.linspace(0, 60, 13)\n",
    "g.map(plt.hist, \"total_bill\", color=\"steelblue\", bins=bins)"
   ]
  },
  {
   "cell_type": "code",
   "execution_count": 42,
   "metadata": {},
   "outputs": [],
   "source": [
    "# 한국"
   ]
  },
  {
   "cell_type": "code",
   "execution_count": 43,
   "metadata": {},
   "outputs": [],
   "source": [
    "country1 = edu.loc[edu[\"국가\"] == \"Korea\"]"
   ]
  },
  {
   "cell_type": "code",
   "execution_count": 44,
   "metadata": {},
   "outputs": [
    {
     "data": {
      "text/html": [
       "<div>\n",
       "<style scoped>\n",
       "    .dataframe tbody tr th:only-of-type {\n",
       "        vertical-align: middle;\n",
       "    }\n",
       "\n",
       "    .dataframe tbody tr th {\n",
       "        vertical-align: top;\n",
       "    }\n",
       "\n",
       "    .dataframe thead th {\n",
       "        text-align: right;\n",
       "    }\n",
       "</style>\n",
       "<table border=\"1\" class=\"dataframe\">\n",
       "  <thead>\n",
       "    <tr style=\"text-align: right;\">\n",
       "      <th></th>\n",
       "      <th>국가</th>\n",
       "      <th>본인교육수준</th>\n",
       "      <th>성별</th>\n",
       "      <th>부모교육수준</th>\n",
       "      <th>값</th>\n",
       "    </tr>\n",
       "  </thead>\n",
       "  <tbody>\n",
       "    <tr>\n",
       "      <td>289</td>\n",
       "      <td>Korea</td>\n",
       "      <td>중졸이하</td>\n",
       "      <td>F</td>\n",
       "      <td>부모모두중졸이하</td>\n",
       "      <td>8.0</td>\n",
       "    </tr>\n",
       "    <tr>\n",
       "      <td>290</td>\n",
       "      <td>Korea</td>\n",
       "      <td>중졸이하</td>\n",
       "      <td>M</td>\n",
       "      <td>부모모두중졸이하</td>\n",
       "      <td>7.0</td>\n",
       "    </tr>\n",
       "    <tr>\n",
       "      <td>292</td>\n",
       "      <td>Korea</td>\n",
       "      <td>중졸이하</td>\n",
       "      <td>F</td>\n",
       "      <td>한명이상고졸</td>\n",
       "      <td>1.0</td>\n",
       "    </tr>\n",
       "    <tr>\n",
       "      <td>293</td>\n",
       "      <td>Korea</td>\n",
       "      <td>중졸이하</td>\n",
       "      <td>M</td>\n",
       "      <td>한명이상고졸</td>\n",
       "      <td>1.0</td>\n",
       "    </tr>\n",
       "    <tr>\n",
       "      <td>295</td>\n",
       "      <td>Korea</td>\n",
       "      <td>중졸이하</td>\n",
       "      <td>F</td>\n",
       "      <td>한명이상대졸이상</td>\n",
       "      <td>NaN</td>\n",
       "    </tr>\n",
       "    <tr>\n",
       "      <td>296</td>\n",
       "      <td>Korea</td>\n",
       "      <td>중졸이하</td>\n",
       "      <td>M</td>\n",
       "      <td>한명이상대졸이상</td>\n",
       "      <td>NaN</td>\n",
       "    </tr>\n",
       "    <tr>\n",
       "      <td>301</td>\n",
       "      <td>Korea</td>\n",
       "      <td>고졸</td>\n",
       "      <td>F</td>\n",
       "      <td>부모모두중졸이하</td>\n",
       "      <td>53.0</td>\n",
       "    </tr>\n",
       "    <tr>\n",
       "      <td>302</td>\n",
       "      <td>Korea</td>\n",
       "      <td>고졸</td>\n",
       "      <td>M</td>\n",
       "      <td>부모모두중졸이하</td>\n",
       "      <td>47.0</td>\n",
       "    </tr>\n",
       "    <tr>\n",
       "      <td>304</td>\n",
       "      <td>Korea</td>\n",
       "      <td>고졸</td>\n",
       "      <td>F</td>\n",
       "      <td>한명이상고졸</td>\n",
       "      <td>40.0</td>\n",
       "    </tr>\n",
       "    <tr>\n",
       "      <td>305</td>\n",
       "      <td>Korea</td>\n",
       "      <td>고졸</td>\n",
       "      <td>M</td>\n",
       "      <td>한명이상고졸</td>\n",
       "      <td>38.0</td>\n",
       "    </tr>\n",
       "    <tr>\n",
       "      <td>307</td>\n",
       "      <td>Korea</td>\n",
       "      <td>고졸</td>\n",
       "      <td>F</td>\n",
       "      <td>한명이상대졸이상</td>\n",
       "      <td>17.0</td>\n",
       "    </tr>\n",
       "    <tr>\n",
       "      <td>308</td>\n",
       "      <td>Korea</td>\n",
       "      <td>고졸</td>\n",
       "      <td>M</td>\n",
       "      <td>한명이상대졸이상</td>\n",
       "      <td>19.0</td>\n",
       "    </tr>\n",
       "    <tr>\n",
       "      <td>313</td>\n",
       "      <td>Korea</td>\n",
       "      <td>대졸이상</td>\n",
       "      <td>F</td>\n",
       "      <td>부모모두중졸이하</td>\n",
       "      <td>39.0</td>\n",
       "    </tr>\n",
       "    <tr>\n",
       "      <td>314</td>\n",
       "      <td>Korea</td>\n",
       "      <td>대졸이상</td>\n",
       "      <td>M</td>\n",
       "      <td>부모모두중졸이하</td>\n",
       "      <td>47.0</td>\n",
       "    </tr>\n",
       "    <tr>\n",
       "      <td>316</td>\n",
       "      <td>Korea</td>\n",
       "      <td>대졸이상</td>\n",
       "      <td>F</td>\n",
       "      <td>한명이상고졸</td>\n",
       "      <td>59.0</td>\n",
       "    </tr>\n",
       "    <tr>\n",
       "      <td>317</td>\n",
       "      <td>Korea</td>\n",
       "      <td>대졸이상</td>\n",
       "      <td>M</td>\n",
       "      <td>한명이상고졸</td>\n",
       "      <td>60.0</td>\n",
       "    </tr>\n",
       "    <tr>\n",
       "      <td>319</td>\n",
       "      <td>Korea</td>\n",
       "      <td>대졸이상</td>\n",
       "      <td>F</td>\n",
       "      <td>한명이상대졸이상</td>\n",
       "      <td>82.0</td>\n",
       "    </tr>\n",
       "    <tr>\n",
       "      <td>320</td>\n",
       "      <td>Korea</td>\n",
       "      <td>대졸이상</td>\n",
       "      <td>M</td>\n",
       "      <td>한명이상대졸이상</td>\n",
       "      <td>81.0</td>\n",
       "    </tr>\n",
       "  </tbody>\n",
       "</table>\n",
       "</div>"
      ],
      "text/plain": [
       "        국가 본인교육수준 성별    부모교육수준     값\n",
       "289  Korea   중졸이하  F  부모모두중졸이하   8.0\n",
       "290  Korea   중졸이하  M  부모모두중졸이하   7.0\n",
       "292  Korea   중졸이하  F    한명이상고졸   1.0\n",
       "293  Korea   중졸이하  M    한명이상고졸   1.0\n",
       "295  Korea   중졸이하  F  한명이상대졸이상   NaN\n",
       "296  Korea   중졸이하  M  한명이상대졸이상   NaN\n",
       "301  Korea     고졸  F  부모모두중졸이하  53.0\n",
       "302  Korea     고졸  M  부모모두중졸이하  47.0\n",
       "304  Korea     고졸  F    한명이상고졸  40.0\n",
       "305  Korea     고졸  M    한명이상고졸  38.0\n",
       "307  Korea     고졸  F  한명이상대졸이상  17.0\n",
       "308  Korea     고졸  M  한명이상대졸이상  19.0\n",
       "313  Korea   대졸이상  F  부모모두중졸이하  39.0\n",
       "314  Korea   대졸이상  M  부모모두중졸이하  47.0\n",
       "316  Korea   대졸이상  F    한명이상고졸  59.0\n",
       "317  Korea   대졸이상  M    한명이상고졸  60.0\n",
       "319  Korea   대졸이상  F  한명이상대졸이상  82.0\n",
       "320  Korea   대졸이상  M  한명이상대졸이상  81.0"
      ]
     },
     "execution_count": 44,
     "metadata": {},
     "output_type": "execute_result"
    }
   ],
   "source": [
    "country1"
   ]
  },
  {
   "cell_type": "code",
   "execution_count": 45,
   "metadata": {},
   "outputs": [],
   "source": [
    "#table1= pd.pivot_table(country1, values='값', index=['부모교육수준'],\n",
    "#...                     columns=[ '본인교육수준'], aggfunc=np.sum, fill_value=0)"
   ]
  },
  {
   "cell_type": "code",
   "execution_count": 46,
   "metadata": {},
   "outputs": [],
   "source": [
    "#table1.reset_index()"
   ]
  },
  {
   "cell_type": "code",
   "execution_count": 47,
   "metadata": {},
   "outputs": [
    {
     "data": {
      "text/plain": [
       "<matplotlib.axes._subplots.AxesSubplot at 0x1d7d9d18048>"
      ]
     },
     "execution_count": 47,
     "metadata": {},
     "output_type": "execute_result"
    },
    {
     "data": {
      "image/png": "[encoded data removed]",
      "text/plain": [
       "<Figure size 432x288 with 1 Axes>"
      ]
     },
     "metadata": {
      "needs_background": "light"
     },
     "output_type": "display_data"
    }
   ],
   "source": [
    "sns.boxplot(x=\"부모교육수준\", y=\"값\", hue=\"본인교육수준\", data=country1, palette=[\"r\",\"y\",\"b\"])"
   ]
  },
  {
   "cell_type": "code",
   "execution_count": 48,
   "metadata": {},
   "outputs": [],
   "source": [
    "#일본"
   ]
  },
  {
   "cell_type": "code",
   "execution_count": 49,
   "metadata": {},
   "outputs": [],
   "source": [
    "country2 = edu.loc[edu[\"국가\"] == \"Japan\"]"
   ]
  },
  {
   "cell_type": "code",
   "execution_count": 50,
   "metadata": {},
   "outputs": [
    {
     "data": {
      "text/plain": [
       "<matplotlib.axes._subplots.AxesSubplot at 0x1d7d9e5d088>"
      ]
     },
     "execution_count": 50,
     "metadata": {},
     "output_type": "execute_result"
    },
    {
     "data": {
      "image/png": "[encoded data removed]",
      "text/plain": [
       "<Figure size 432x288 with 1 Axes>"
      ]
     },
     "metadata": {
      "needs_background": "light"
     },
     "output_type": "display_data"
    }
   ],
   "source": [
    "sns.boxplot(x=\"부모교육수준\", y=\"값\", hue=\"본인교육수준\", data=country2, palette=[\"r\",\"y\",\"b\"])"
   ]
  },
  {
   "cell_type": "code",
   "execution_count": 51,
   "metadata": {},
   "outputs": [],
   "source": [
    "#미국"
   ]
  },
  {
   "cell_type": "code",
   "execution_count": 52,
   "metadata": {},
   "outputs": [],
   "source": [
    "country3 = edu.loc[edu[\"국가\"] == \"United States\"]"
   ]
  },
  {
   "cell_type": "code",
   "execution_count": 53,
   "metadata": {},
   "outputs": [
    {
     "data": {
      "text/plain": [
       "<matplotlib.axes._subplots.AxesSubplot at 0x1d7d9f85108>"
      ]
     },
     "execution_count": 53,
     "metadata": {},
     "output_type": "execute_result"
    },
    {
     "data": {
      "image/png": "[encoded data removed]",
      "text/plain": [
       "<Figure size 432x288 with 1 Axes>"
      ]
     },
     "metadata": {
      "needs_background": "light"
     },
     "output_type": "display_data"
    }
   ],
   "source": [
    "sns.boxplot(x=\"부모교육수준\", y=\"값\", hue=\"본인교육수준\", data=country3, palette=[\"r\",\"y\",\"b\"])"
   ]
  },
  {
   "cell_type": "code",
   "execution_count": 54,
   "metadata": {},
   "outputs": [],
   "source": [
    "#독일"
   ]
  },
  {
   "cell_type": "code",
   "execution_count": 55,
   "metadata": {},
   "outputs": [],
   "source": [
    "country4 = edu.loc[edu[\"국가\"] == \"Germany\"]"
   ]
  },
  {
   "cell_type": "code",
   "execution_count": 56,
   "metadata": {
    "scrolled": true
   },
   "outputs": [
    {
     "data": {
      "text/plain": [
       "<matplotlib.axes._subplots.AxesSubplot at 0x1d7da0853c8>"
      ]
     },
     "execution_count": 56,
     "metadata": {},
     "output_type": "execute_result"
    },
    {
     "data": {
      "image/png": "[encoded data removed]",
      "text/plain": [
       "<Figure size 432x288 with 1 Axes>"
      ]
     },
     "metadata": {
      "needs_background": "light"
     },
     "output_type": "display_data"
    }
   ],
   "source": [
    "sns.boxplot(x=\"부모교육수준\", y=\"값\", hue=\"본인교육수준\", data=country4, palette=[\"r\",\"y\",\"b\"])"
   ]
  },
  {
   "cell_type": "code",
   "execution_count": 57,
   "metadata": {},
   "outputs": [
    {
     "data": {
      "image/png": "[encoded data removed]",
      "text/plain": [
       "<Figure size 432x288 with 1 Axes>"
      ]
     },
     "metadata": {
      "needs_background": "light"
     },
     "output_type": "display_data"
    },
    {
     "data": {
      "image/png": "[encoded data removed]",
      "text/plain": [
       "<Figure size 432x288 with 1 Axes>"
      ]
     },
     "metadata": {
      "needs_background": "light"
     },
     "output_type": "display_data"
    },
    {
     "data": {
      "image/png": "[encoded data removed]",
      "text/plain": [
       "<Figure size 432x288 with 1 Axes>"
      ]
     },
     "metadata": {
      "needs_background": "light"
     },
     "output_type": "display_data"
    },
    {
     "data": {
      "image/png": "[encoded data removed]",
      "text/plain": [
       "<Figure size 432x288 with 1 Axes>"
      ]
     },
     "metadata": {
      "needs_background": "light"
     },
     "output_type": "display_data"
    },
    {
     "data": {
      "image/png": "[encoded data removed]",
      "text/plain": [
       "<Figure size 432x288 with 1 Axes>"
      ]
     },
     "metadata": {
      "needs_background": "light"
     },
     "output_type": "display_data"
    },
    {
     "data": {
      "image/png": "[encoded data removed]",
      "text/plain": [
       "<Figure size 432x288 with 1 Axes>"
      ]
     },
     "metadata": {
      "needs_background": "light"
     },
     "output_type": "display_data"
    },
    {
     "data": {
      "image/png": "[encoded data removed]",
      "text/plain": [
       "<Figure size 432x288 with 1 Axes>"
      ]
     },
     "metadata": {
      "needs_background": "light"
     },
     "output_type": "display_data"
    },
    {
     "data": {
      "image/png": "[encoded data removed]",
      "text/plain": [
       "<Figure size 432x288 with 1 Axes>"
      ]
     },
     "metadata": {
      "needs_background": "light"
     },
     "output_type": "display_data"
    },
    {
     "data": {
      "image/png": "[encoded data removed]",
      "text/plain": [
       "<Figure size 432x288 with 1 Axes>"
      ]
     },
     "metadata": {
      "needs_background": "light"
     },
     "output_type": "display_data"
    },
    {
     "data": {
      "image/png": "[encoded data removed]",
      "text/plain": [
       "<Figure size 432x288 with 1 Axes>"
      ]
     },
     "metadata": {
      "needs_background": "light"
     },
     "output_type": "display_data"
    },
    {
     "data": {
      "image/png": "[encoded data removed]",
      "text/plain": [
       "<Figure size 432x288 with 1 Axes>"
      ]
     },
     "metadata": {
      "needs_background": "light"
     },
     "output_type": "display_data"
    },
    {
     "data": {
      "image/png": "[encoded data removed]",
      "text/plain": [
       "<Figure size 432x288 with 1 Axes>"
      ]
     },
     "metadata": {
      "needs_background": "light"
     },
     "output_type": "display_data"
    },
    {
     "data": {
      "image/png": "[encoded data removed]",
      "text/plain": [
       "<Figure size 432x288 with 1 Axes>"
      ]
     },
     "metadata": {
      "needs_background": "light"
     },
     "output_type": "display_data"
    },
    {
     "data": {
      "image/png": "[encoded data removed]",
      "text/plain": [
       "<Figure size 432x288 with 1 Axes>"
      ]
     },
     "metadata": {
      "needs_background": "light"
     },
     "output_type": "display_data"
    },
    {
     "data": {
      "image/png": "[encoded data removed]",
      "text/plain": [
       "<Figure size 432x288 with 1 Axes>"
      ]
     },
     "metadata": {
      "needs_background": "light"
     },
     "output_type": "display_data"
    },
    {
     "data": {
      "image/png": "[encoded data removed]",
      "text/plain": [
       "<Figure size 432x288 with 1 Axes>"
      ]
     },
     "metadata": {
      "needs_background": "light"
     },
     "output_type": "display_data"
    },
    {
     "data": {
      "image/png": "[encoded data removed]",
      "text/plain": [
       "<Figure size 432x288 with 1 Axes>"
      ]
     },
     "metadata": {
      "needs_background": "light"
     },
     "output_type": "display_data"
    },
    {
     "data": {
      "image/png": "[encoded data removed]",
      "text/plain": [
       "<Figure size 432x288 with 1 Axes>"
      ]
     },
     "metadata": {
      "needs_background": "light"
     },
     "output_type": "display_data"
    },
    {
     "data": {
      "image/png": "[encoded data removed]",
      "text/plain": [
       "<Figure size 432x288 with 1 Axes>"
      ]
     },
     "metadata": {
      "needs_background": "light"
     },
     "output_type": "display_data"
    },
    {
     "data": {
      "image/png": "[encoded data removed]",
      "text/plain": [
       "<Figure size 432x288 with 1 Axes>"
      ]
     },
     "metadata": {
      "needs_background": "light"
     },
     "output_type": "display_data"
    },
    {
     "data": {
      "image/png": "[encoded data removed]",
      "text/plain": [
       "<Figure size 432x288 with 1 Axes>"
      ]
     },
     "metadata": {
      "needs_background": "light"
     },
     "output_type": "display_data"
    }
   ],
   "source": [
    "#국가별 그래프\n",
    "\n",
    "country = pd.unique(edu['국가'])\n",
    "for i in country:\n",
    "    country = edu.loc[edu['국가'] == i]\n",
    "    table= pd.pivot_table(country, values='값', index=['부모교육수준'],\n",
    "                     columns=[ '본인교육수준'], aggfunc=np.sum, fill_value=0)\n",
    "    # set width of bar\n",
    "    barWidth = 0.25\n",
    " \n",
    "    # set height of bar\n",
    "    bars1 = table['중졸이하'].values\n",
    "    bars2 = table['고졸'].values\n",
    "    bars3 = table['대졸이상'].values\n",
    " \n",
    "    # Set position of bar on X axis\n",
    "    r1 = np.arange(len(bars1))\n",
    "    r2 = [x + barWidth for x in r1]\n",
    "    r3 = [x + barWidth for x in r2]\n",
    " \n",
    "    # Make the plot\n",
    "    plt.bar(r1, bars1, color='red', width=barWidth, edgecolor='white', label='중졸이하')\n",
    "    plt.bar(r2, bars2, color='blue', width=barWidth, edgecolor='white', label='고졸')\n",
    "    plt.bar(r3, bars3, color='green', width=barWidth, edgecolor='white', label='대졸이상')\n",
    "\n",
    "    # Add xticks on the middle of the group bars\n",
    "    plt.xlabel(i)\n",
    "    plt.xticks([r + barWidth for r in range(len(bars1))], ['부모모두중졸이하', '부모한명이상고졸', '부모한명이상대졸'])\n",
    " \n",
    "    # Create legend & Show graphic\n",
    "    plt.legend()\n",
    "    plt.show()"
   ]
  },
  {
   "cell_type": "code",
   "execution_count": 58,
   "metadata": {},
   "outputs": [],
   "source": [
    "pd.options.display.float_format='{:,.0f}'.format"
   ]
  },
  {
   "cell_type": "code",
   "execution_count": 59,
   "metadata": {},
   "outputs": [],
   "source": [
    "#본인 중졸이하,부모 모두중졸이하 각 국가 지표"
   ]
  },
  {
   "cell_type": "code",
   "execution_count": 60,
   "metadata": {
    "scrolled": true
   },
   "outputs": [
    {
     "data": {
      "text/html": [
       "<div>\n",
       "<style scoped>\n",
       "    .dataframe tbody tr th:only-of-type {\n",
       "        vertical-align: middle;\n",
       "    }\n",
       "\n",
       "    .dataframe tbody tr th {\n",
       "        vertical-align: top;\n",
       "    }\n",
       "\n",
       "    .dataframe thead th {\n",
       "        text-align: right;\n",
       "    }\n",
       "</style>\n",
       "<table border=\"1\" class=\"dataframe\">\n",
       "  <thead>\n",
       "    <tr style=\"text-align: right;\">\n",
       "      <th></th>\n",
       "      <th>국가</th>\n",
       "      <th>본인교육수준</th>\n",
       "      <th>성별</th>\n",
       "      <th>부모교육수준</th>\n",
       "      <th>값</th>\n",
       "    </tr>\n",
       "  </thead>\n",
       "  <tbody>\n",
       "    <tr>\n",
       "      <td>469</td>\n",
       "      <td>Turkey</td>\n",
       "      <td>중졸이하</td>\n",
       "      <td>F</td>\n",
       "      <td>부모모두중졸이하</td>\n",
       "      <td>74</td>\n",
       "    </tr>\n",
       "    <tr>\n",
       "      <td>470</td>\n",
       "      <td>Turkey</td>\n",
       "      <td>중졸이하</td>\n",
       "      <td>M</td>\n",
       "      <td>부모모두중졸이하</td>\n",
       "      <td>63</td>\n",
       "    </tr>\n",
       "    <tr>\n",
       "      <td>218</td>\n",
       "      <td>Italy</td>\n",
       "      <td>중졸이하</td>\n",
       "      <td>M</td>\n",
       "      <td>부모모두중졸이하</td>\n",
       "      <td>57</td>\n",
       "    </tr>\n",
       "    <tr>\n",
       "      <td>217</td>\n",
       "      <td>Italy</td>\n",
       "      <td>중졸이하</td>\n",
       "      <td>F</td>\n",
       "      <td>부모모두중졸이하</td>\n",
       "      <td>52</td>\n",
       "    </tr>\n",
       "    <tr>\n",
       "      <td>145</td>\n",
       "      <td>Germany</td>\n",
       "      <td>중졸이하</td>\n",
       "      <td>F</td>\n",
       "      <td>부모모두중졸이하</td>\n",
       "      <td>47</td>\n",
       "    </tr>\n",
       "    <tr>\n",
       "      <td>182</td>\n",
       "      <td>Greece</td>\n",
       "      <td>중졸이하</td>\n",
       "      <td>M</td>\n",
       "      <td>부모모두중졸이하</td>\n",
       "      <td>39</td>\n",
       "    </tr>\n",
       "    <tr>\n",
       "      <td>542</td>\n",
       "      <td>Chile</td>\n",
       "      <td>중졸이하</td>\n",
       "      <td>M</td>\n",
       "      <td>부모모두중졸이하</td>\n",
       "      <td>37</td>\n",
       "    </tr>\n",
       "    <tr>\n",
       "      <td>541</td>\n",
       "      <td>Chile</td>\n",
       "      <td>중졸이하</td>\n",
       "      <td>F</td>\n",
       "      <td>부모모두중졸이하</td>\n",
       "      <td>37</td>\n",
       "    </tr>\n",
       "    <tr>\n",
       "      <td>722</td>\n",
       "      <td>Slovenia</td>\n",
       "      <td>중졸이하</td>\n",
       "      <td>M</td>\n",
       "      <td>부모모두중졸이하</td>\n",
       "      <td>34</td>\n",
       "    </tr>\n",
       "    <tr>\n",
       "      <td>506</td>\n",
       "      <td>United States</td>\n",
       "      <td>중졸이하</td>\n",
       "      <td>M</td>\n",
       "      <td>부모모두중졸이하</td>\n",
       "      <td>34</td>\n",
       "    </tr>\n",
       "    <tr>\n",
       "      <td>505</td>\n",
       "      <td>United States</td>\n",
       "      <td>중졸이하</td>\n",
       "      <td>F</td>\n",
       "      <td>부모모두중졸이하</td>\n",
       "      <td>34</td>\n",
       "    </tr>\n",
       "    <tr>\n",
       "      <td>397</td>\n",
       "      <td>Norway</td>\n",
       "      <td>중졸이하</td>\n",
       "      <td>F</td>\n",
       "      <td>부모모두중졸이하</td>\n",
       "      <td>32</td>\n",
       "    </tr>\n",
       "    <tr>\n",
       "      <td>146</td>\n",
       "      <td>Germany</td>\n",
       "      <td>중졸이하</td>\n",
       "      <td>M</td>\n",
       "      <td>부모모두중졸이하</td>\n",
       "      <td>32</td>\n",
       "    </tr>\n",
       "    <tr>\n",
       "      <td>326</td>\n",
       "      <td>Netherlands</td>\n",
       "      <td>중졸이하</td>\n",
       "      <td>M</td>\n",
       "      <td>부모모두중졸이하</td>\n",
       "      <td>32</td>\n",
       "    </tr>\n",
       "    <tr>\n",
       "      <td>578</td>\n",
       "      <td>Estonia</td>\n",
       "      <td>중졸이하</td>\n",
       "      <td>M</td>\n",
       "      <td>부모모두중졸이하</td>\n",
       "      <td>32</td>\n",
       "    </tr>\n",
       "    <tr>\n",
       "      <td>181</td>\n",
       "      <td>Greece</td>\n",
       "      <td>중졸이하</td>\n",
       "      <td>F</td>\n",
       "      <td>부모모두중졸이하</td>\n",
       "      <td>30</td>\n",
       "    </tr>\n",
       "    <tr>\n",
       "      <td>325</td>\n",
       "      <td>Netherlands</td>\n",
       "      <td>중졸이하</td>\n",
       "      <td>F</td>\n",
       "      <td>부모모두중졸이하</td>\n",
       "      <td>30</td>\n",
       "    </tr>\n",
       "    <tr>\n",
       "      <td>398</td>\n",
       "      <td>Norway</td>\n",
       "      <td>중졸이하</td>\n",
       "      <td>M</td>\n",
       "      <td>부모모두중졸이하</td>\n",
       "      <td>29</td>\n",
       "    </tr>\n",
       "    <tr>\n",
       "      <td>721</td>\n",
       "      <td>Slovenia</td>\n",
       "      <td>중졸이하</td>\n",
       "      <td>F</td>\n",
       "      <td>부모모두중졸이하</td>\n",
       "      <td>28</td>\n",
       "    </tr>\n",
       "    <tr>\n",
       "      <td>1</td>\n",
       "      <td>Australia</td>\n",
       "      <td>중졸이하</td>\n",
       "      <td>F</td>\n",
       "      <td>부모모두중졸이하</td>\n",
       "      <td>27</td>\n",
       "    </tr>\n",
       "    <tr>\n",
       "      <td>109</td>\n",
       "      <td>France</td>\n",
       "      <td>중졸이하</td>\n",
       "      <td>F</td>\n",
       "      <td>부모모두중졸이하</td>\n",
       "      <td>27</td>\n",
       "    </tr>\n",
       "    <tr>\n",
       "      <td>362</td>\n",
       "      <td>New Zealand</td>\n",
       "      <td>중졸이하</td>\n",
       "      <td>M</td>\n",
       "      <td>부모모두중졸이하</td>\n",
       "      <td>26</td>\n",
       "    </tr>\n",
       "    <tr>\n",
       "      <td>110</td>\n",
       "      <td>France</td>\n",
       "      <td>중졸이하</td>\n",
       "      <td>M</td>\n",
       "      <td>부모모두중졸이하</td>\n",
       "      <td>26</td>\n",
       "    </tr>\n",
       "    <tr>\n",
       "      <td>361</td>\n",
       "      <td>New Zealand</td>\n",
       "      <td>중졸이하</td>\n",
       "      <td>F</td>\n",
       "      <td>부모모두중졸이하</td>\n",
       "      <td>25</td>\n",
       "    </tr>\n",
       "    <tr>\n",
       "      <td>2</td>\n",
       "      <td>Australia</td>\n",
       "      <td>중졸이하</td>\n",
       "      <td>M</td>\n",
       "      <td>부모모두중졸이하</td>\n",
       "      <td>24</td>\n",
       "    </tr>\n",
       "    <tr>\n",
       "      <td>614</td>\n",
       "      <td>Israel</td>\n",
       "      <td>중졸이하</td>\n",
       "      <td>M</td>\n",
       "      <td>부모모두중졸이하</td>\n",
       "      <td>24</td>\n",
       "    </tr>\n",
       "    <tr>\n",
       "      <td>577</td>\n",
       "      <td>Estonia</td>\n",
       "      <td>중졸이하</td>\n",
       "      <td>F</td>\n",
       "      <td>부모모두중졸이하</td>\n",
       "      <td>23</td>\n",
       "    </tr>\n",
       "    <tr>\n",
       "      <td>434</td>\n",
       "      <td>Sweden</td>\n",
       "      <td>중졸이하</td>\n",
       "      <td>M</td>\n",
       "      <td>부모모두중졸이하</td>\n",
       "      <td>22</td>\n",
       "    </tr>\n",
       "    <tr>\n",
       "      <td>38</td>\n",
       "      <td>Canada</td>\n",
       "      <td>중졸이하</td>\n",
       "      <td>M</td>\n",
       "      <td>부모모두중졸이하</td>\n",
       "      <td>21</td>\n",
       "    </tr>\n",
       "    <tr>\n",
       "      <td>650</td>\n",
       "      <td>Lithuania</td>\n",
       "      <td>중졸이하</td>\n",
       "      <td>M</td>\n",
       "      <td>부모모두중졸이하</td>\n",
       "      <td>21</td>\n",
       "    </tr>\n",
       "    <tr>\n",
       "      <td>433</td>\n",
       "      <td>Sweden</td>\n",
       "      <td>중졸이하</td>\n",
       "      <td>F</td>\n",
       "      <td>부모모두중졸이하</td>\n",
       "      <td>19</td>\n",
       "    </tr>\n",
       "    <tr>\n",
       "      <td>254</td>\n",
       "      <td>Japan</td>\n",
       "      <td>중졸이하</td>\n",
       "      <td>M</td>\n",
       "      <td>부모모두중졸이하</td>\n",
       "      <td>19</td>\n",
       "    </tr>\n",
       "    <tr>\n",
       "      <td>613</td>\n",
       "      <td>Israel</td>\n",
       "      <td>중졸이하</td>\n",
       "      <td>F</td>\n",
       "      <td>부모모두중졸이하</td>\n",
       "      <td>18</td>\n",
       "    </tr>\n",
       "    <tr>\n",
       "      <td>649</td>\n",
       "      <td>Lithuania</td>\n",
       "      <td>중졸이하</td>\n",
       "      <td>F</td>\n",
       "      <td>부모모두중졸이하</td>\n",
       "      <td>18</td>\n",
       "    </tr>\n",
       "    <tr>\n",
       "      <td>37</td>\n",
       "      <td>Canada</td>\n",
       "      <td>중졸이하</td>\n",
       "      <td>F</td>\n",
       "      <td>부모모두중졸이하</td>\n",
       "      <td>18</td>\n",
       "    </tr>\n",
       "    <tr>\n",
       "      <td>686</td>\n",
       "      <td>Russia</td>\n",
       "      <td>중졸이하</td>\n",
       "      <td>M</td>\n",
       "      <td>부모모두중졸이하</td>\n",
       "      <td>14</td>\n",
       "    </tr>\n",
       "    <tr>\n",
       "      <td>74</td>\n",
       "      <td>Finland</td>\n",
       "      <td>중졸이하</td>\n",
       "      <td>M</td>\n",
       "      <td>부모모두중졸이하</td>\n",
       "      <td>12</td>\n",
       "    </tr>\n",
       "    <tr>\n",
       "      <td>253</td>\n",
       "      <td>Japan</td>\n",
       "      <td>중졸이하</td>\n",
       "      <td>F</td>\n",
       "      <td>부모모두중졸이하</td>\n",
       "      <td>11</td>\n",
       "    </tr>\n",
       "    <tr>\n",
       "      <td>73</td>\n",
       "      <td>Finland</td>\n",
       "      <td>중졸이하</td>\n",
       "      <td>F</td>\n",
       "      <td>부모모두중졸이하</td>\n",
       "      <td>9</td>\n",
       "    </tr>\n",
       "    <tr>\n",
       "      <td>289</td>\n",
       "      <td>Korea</td>\n",
       "      <td>중졸이하</td>\n",
       "      <td>F</td>\n",
       "      <td>부모모두중졸이하</td>\n",
       "      <td>8</td>\n",
       "    </tr>\n",
       "    <tr>\n",
       "      <td>290</td>\n",
       "      <td>Korea</td>\n",
       "      <td>중졸이하</td>\n",
       "      <td>M</td>\n",
       "      <td>부모모두중졸이하</td>\n",
       "      <td>7</td>\n",
       "    </tr>\n",
       "    <tr>\n",
       "      <td>685</td>\n",
       "      <td>Russia</td>\n",
       "      <td>중졸이하</td>\n",
       "      <td>F</td>\n",
       "      <td>부모모두중졸이하</td>\n",
       "      <td>7</td>\n",
       "    </tr>\n",
       "  </tbody>\n",
       "</table>\n",
       "</div>"
      ],
      "text/plain": [
       "                국가 본인교육수준 성별    부모교육수준  값\n",
       "469         Turkey   중졸이하  F  부모모두중졸이하 74\n",
       "470         Turkey   중졸이하  M  부모모두중졸이하 63\n",
       "218          Italy   중졸이하  M  부모모두중졸이하 57\n",
       "217          Italy   중졸이하  F  부모모두중졸이하 52\n",
       "145        Germany   중졸이하  F  부모모두중졸이하 47\n",
       "182         Greece   중졸이하  M  부모모두중졸이하 39\n",
       "542          Chile   중졸이하  M  부모모두중졸이하 37\n",
       "541          Chile   중졸이하  F  부모모두중졸이하 37\n",
       "722       Slovenia   중졸이하  M  부모모두중졸이하 34\n",
       "506  United States   중졸이하  M  부모모두중졸이하 34\n",
       "505  United States   중졸이하  F  부모모두중졸이하 34\n",
       "397         Norway   중졸이하  F  부모모두중졸이하 32\n",
       "146        Germany   중졸이하  M  부모모두중졸이하 32\n",
       "326    Netherlands   중졸이하  M  부모모두중졸이하 32\n",
       "578        Estonia   중졸이하  M  부모모두중졸이하 32\n",
       "181         Greece   중졸이하  F  부모모두중졸이하 30\n",
       "325    Netherlands   중졸이하  F  부모모두중졸이하 30\n",
       "398         Norway   중졸이하  M  부모모두중졸이하 29\n",
       "721       Slovenia   중졸이하  F  부모모두중졸이하 28\n",
       "1        Australia   중졸이하  F  부모모두중졸이하 27\n",
       "109         France   중졸이하  F  부모모두중졸이하 27\n",
       "362    New Zealand   중졸이하  M  부모모두중졸이하 26\n",
       "110         France   중졸이하  M  부모모두중졸이하 26\n",
       "361    New Zealand   중졸이하  F  부모모두중졸이하 25\n",
       "2        Australia   중졸이하  M  부모모두중졸이하 24\n",
       "614         Israel   중졸이하  M  부모모두중졸이하 24\n",
       "577        Estonia   중졸이하  F  부모모두중졸이하 23\n",
       "434         Sweden   중졸이하  M  부모모두중졸이하 22\n",
       "38          Canada   중졸이하  M  부모모두중졸이하 21\n",
       "650      Lithuania   중졸이하  M  부모모두중졸이하 21\n",
       "433         Sweden   중졸이하  F  부모모두중졸이하 19\n",
       "254          Japan   중졸이하  M  부모모두중졸이하 19\n",
       "613         Israel   중졸이하  F  부모모두중졸이하 18\n",
       "649      Lithuania   중졸이하  F  부모모두중졸이하 18\n",
       "37          Canada   중졸이하  F  부모모두중졸이하 18\n",
       "686         Russia   중졸이하  M  부모모두중졸이하 14\n",
       "74         Finland   중졸이하  M  부모모두중졸이하 12\n",
       "253          Japan   중졸이하  F  부모모두중졸이하 11\n",
       "73         Finland   중졸이하  F  부모모두중졸이하  9\n",
       "289          Korea   중졸이하  F  부모모두중졸이하  8\n",
       "290          Korea   중졸이하  M  부모모두중졸이하  7\n",
       "685         Russia   중졸이하  F  부모모두중졸이하  7"
      ]
     },
     "execution_count": 60,
     "metadata": {},
     "output_type": "execute_result"
    }
   ],
   "source": [
    "middleSchoolGraduated = edu.loc[(edu['본인교육수준'] == \"중졸이하\")&(edu['부모교육수준'] == '부모모두중졸이하')]\n",
    "middleSchoolGraduated.sort_values(by=['값'],ascending=False,inplace = True)\n",
    "middleSchoolGraduated"
   ]
  },
  {
   "cell_type": "code",
   "execution_count": 61,
   "metadata": {
    "scrolled": true
   },
   "outputs": [
    {
     "data": {
      "text/plain": [
       "<matplotlib.axes._subplots.AxesSubplot at 0x1d7db737848>"
      ]
     },
     "execution_count": 61,
     "metadata": {},
     "output_type": "execute_result"
    },
    {
     "data": {
      "image/png": "[encoded data removed]",
      "text/plain": [
       "<Figure size 1656x720 with 1 Axes>"
      ]
     },
     "metadata": {
      "needs_background": "light"
     },
     "output_type": "display_data"
    }
   ],
   "source": [
    "plt.figure(figsize=(23,10))\n",
    "sns.barplot(x=\"국가\", y=\"값\", hue=\"성별\", data=middleSchoolGraduated)"
   ]
  },
  {
   "cell_type": "code",
   "execution_count": 62,
   "metadata": {},
   "outputs": [],
   "source": [
    "#본인 고졸,부모 한명이상고졸 각 국가 지표"
   ]
  },
  {
   "cell_type": "code",
   "execution_count": 63,
   "metadata": {},
   "outputs": [
    {
     "data": {
      "text/html": [
       "<div>\n",
       "<style scoped>\n",
       "    .dataframe tbody tr th:only-of-type {\n",
       "        vertical-align: middle;\n",
       "    }\n",
       "\n",
       "    .dataframe tbody tr th {\n",
       "        vertical-align: top;\n",
       "    }\n",
       "\n",
       "    .dataframe thead th {\n",
       "        text-align: right;\n",
       "    }\n",
       "</style>\n",
       "<table border=\"1\" class=\"dataframe\">\n",
       "  <thead>\n",
       "    <tr style=\"text-align: right;\">\n",
       "      <th></th>\n",
       "      <th>국가</th>\n",
       "      <th>본인교육수준</th>\n",
       "      <th>성별</th>\n",
       "      <th>부모교육수준</th>\n",
       "      <th>값</th>\n",
       "    </tr>\n",
       "  </thead>\n",
       "  <tbody>\n",
       "    <tr>\n",
       "      <td>665</td>\n",
       "      <td>Lithuania</td>\n",
       "      <td>고졸</td>\n",
       "      <td>M</td>\n",
       "      <td>한명이상고졸</td>\n",
       "      <td>72</td>\n",
       "    </tr>\n",
       "    <tr>\n",
       "      <td>160</td>\n",
       "      <td>Germany</td>\n",
       "      <td>고졸</td>\n",
       "      <td>F</td>\n",
       "      <td>한명이상고졸</td>\n",
       "      <td>68</td>\n",
       "    </tr>\n",
       "    <tr>\n",
       "      <td>737</td>\n",
       "      <td>Slovenia</td>\n",
       "      <td>고졸</td>\n",
       "      <td>M</td>\n",
       "      <td>한명이상고졸</td>\n",
       "      <td>66</td>\n",
       "    </tr>\n",
       "    <tr>\n",
       "      <td>161</td>\n",
       "      <td>Germany</td>\n",
       "      <td>고졸</td>\n",
       "      <td>M</td>\n",
       "      <td>한명이상고졸</td>\n",
       "      <td>65</td>\n",
       "    </tr>\n",
       "    <tr>\n",
       "      <td>664</td>\n",
       "      <td>Lithuania</td>\n",
       "      <td>고졸</td>\n",
       "      <td>F</td>\n",
       "      <td>한명이상고졸</td>\n",
       "      <td>62</td>\n",
       "    </tr>\n",
       "    <tr>\n",
       "      <td>521</td>\n",
       "      <td>United States</td>\n",
       "      <td>고졸</td>\n",
       "      <td>M</td>\n",
       "      <td>한명이상고졸</td>\n",
       "      <td>62</td>\n",
       "    </tr>\n",
       "    <tr>\n",
       "      <td>233</td>\n",
       "      <td>Italy</td>\n",
       "      <td>고졸</td>\n",
       "      <td>M</td>\n",
       "      <td>한명이상고졸</td>\n",
       "      <td>57</td>\n",
       "    </tr>\n",
       "    <tr>\n",
       "      <td>449</td>\n",
       "      <td>Sweden</td>\n",
       "      <td>고졸</td>\n",
       "      <td>M</td>\n",
       "      <td>한명이상고졸</td>\n",
       "      <td>57</td>\n",
       "    </tr>\n",
       "    <tr>\n",
       "      <td>125</td>\n",
       "      <td>France</td>\n",
       "      <td>고졸</td>\n",
       "      <td>M</td>\n",
       "      <td>한명이상고졸</td>\n",
       "      <td>57</td>\n",
       "    </tr>\n",
       "    <tr>\n",
       "      <td>89</td>\n",
       "      <td>Finland</td>\n",
       "      <td>고졸</td>\n",
       "      <td>M</td>\n",
       "      <td>한명이상고졸</td>\n",
       "      <td>56</td>\n",
       "    </tr>\n",
       "  </tbody>\n",
       "</table>\n",
       "</div>"
      ],
      "text/plain": [
       "                국가 본인교육수준 성별  부모교육수준  값\n",
       "665      Lithuania     고졸  M  한명이상고졸 72\n",
       "160        Germany     고졸  F  한명이상고졸 68\n",
       "737       Slovenia     고졸  M  한명이상고졸 66\n",
       "161        Germany     고졸  M  한명이상고졸 65\n",
       "664      Lithuania     고졸  F  한명이상고졸 62\n",
       "521  United States     고졸  M  한명이상고졸 62\n",
       "233          Italy     고졸  M  한명이상고졸 57\n",
       "449         Sweden     고졸  M  한명이상고졸 57\n",
       "125         France     고졸  M  한명이상고졸 57\n",
       "89         Finland     고졸  M  한명이상고졸 56"
      ]
     },
     "execution_count": 63,
     "metadata": {},
     "output_type": "execute_result"
    }
   ],
   "source": [
    "highSchoolGraduated = edu.loc[(edu['본인교육수준'] == '고졸') & (edu['부모교육수준'] == '한명이상고졸')]\n",
    "highSchoolGraduated.sort_values(by=['값'],ascending=False,inplace = True)\n",
    "highSchoolGraduated.head(10)"
   ]
  },
  {
   "cell_type": "code",
   "execution_count": 64,
   "metadata": {
    "scrolled": true
   },
   "outputs": [
    {
     "data": {
      "text/plain": [
       "<matplotlib.axes._subplots.AxesSubplot at 0x1d7db723a88>"
      ]
     },
     "execution_count": 64,
     "metadata": {},
     "output_type": "execute_result"
    },
    {
     "data": {
      "image/png": "[encoded data removed]",
      "text/plain": [
       "<Figure size 1656x720 with 1 Axes>"
      ]
     },
     "metadata": {
      "needs_background": "light"
     },
     "output_type": "display_data"
    }
   ],
   "source": [
    "plt.figure(figsize=(23,10))\n",
    "sns.barplot(x=\"국가\", y=\"값\", hue=\"성별\", data=highSchoolGraduated)"
   ]
  },
  {
   "cell_type": "code",
   "execution_count": 65,
   "metadata": {},
   "outputs": [],
   "source": [
    "#본인 대졸이상,부모 한명이상대졸이상 각 국가 지표"
   ]
  },
  {
   "cell_type": "code",
   "execution_count": 66,
   "metadata": {},
   "outputs": [
    {
     "data": {
      "text/html": [
       "<div>\n",
       "<style scoped>\n",
       "    .dataframe tbody tr th:only-of-type {\n",
       "        vertical-align: middle;\n",
       "    }\n",
       "\n",
       "    .dataframe tbody tr th {\n",
       "        vertical-align: top;\n",
       "    }\n",
       "\n",
       "    .dataframe thead th {\n",
       "        text-align: right;\n",
       "    }\n",
       "</style>\n",
       "<table border=\"1\" class=\"dataframe\">\n",
       "  <thead>\n",
       "    <tr style=\"text-align: right;\">\n",
       "      <th></th>\n",
       "      <th>국가</th>\n",
       "      <th>본인교육수준</th>\n",
       "      <th>성별</th>\n",
       "      <th>부모교육수준</th>\n",
       "      <th>값</th>\n",
       "    </tr>\n",
       "  </thead>\n",
       "  <tbody>\n",
       "    <tr>\n",
       "      <td>715</td>\n",
       "      <td>Russia</td>\n",
       "      <td>대졸이상</td>\n",
       "      <td>F</td>\n",
       "      <td>한명이상대졸이상</td>\n",
       "      <td>89</td>\n",
       "    </tr>\n",
       "    <tr>\n",
       "      <td>319</td>\n",
       "      <td>Korea</td>\n",
       "      <td>대졸이상</td>\n",
       "      <td>F</td>\n",
       "      <td>한명이상대졸이상</td>\n",
       "      <td>82</td>\n",
       "    </tr>\n",
       "    <tr>\n",
       "      <td>139</td>\n",
       "      <td>France</td>\n",
       "      <td>대졸이상</td>\n",
       "      <td>F</td>\n",
       "      <td>한명이상대졸이상</td>\n",
       "      <td>82</td>\n",
       "    </tr>\n",
       "    <tr>\n",
       "      <td>320</td>\n",
       "      <td>Korea</td>\n",
       "      <td>대졸이상</td>\n",
       "      <td>M</td>\n",
       "      <td>한명이상대졸이상</td>\n",
       "      <td>81</td>\n",
       "    </tr>\n",
       "    <tr>\n",
       "      <td>716</td>\n",
       "      <td>Russia</td>\n",
       "      <td>대졸이상</td>\n",
       "      <td>M</td>\n",
       "      <td>한명이상대졸이상</td>\n",
       "      <td>80</td>\n",
       "    </tr>\n",
       "    <tr>\n",
       "      <td>643</td>\n",
       "      <td>Israel</td>\n",
       "      <td>대졸이상</td>\n",
       "      <td>F</td>\n",
       "      <td>한명이상대졸이상</td>\n",
       "      <td>80</td>\n",
       "    </tr>\n",
       "    <tr>\n",
       "      <td>31</td>\n",
       "      <td>Australia</td>\n",
       "      <td>대졸이상</td>\n",
       "      <td>F</td>\n",
       "      <td>한명이상대졸이상</td>\n",
       "      <td>78</td>\n",
       "    </tr>\n",
       "    <tr>\n",
       "      <td>571</td>\n",
       "      <td>Chile</td>\n",
       "      <td>대졸이상</td>\n",
       "      <td>F</td>\n",
       "      <td>한명이상대졸이상</td>\n",
       "      <td>78</td>\n",
       "    </tr>\n",
       "    <tr>\n",
       "      <td>500</td>\n",
       "      <td>Turkey</td>\n",
       "      <td>대졸이상</td>\n",
       "      <td>M</td>\n",
       "      <td>한명이상대졸이상</td>\n",
       "      <td>78</td>\n",
       "    </tr>\n",
       "    <tr>\n",
       "      <td>283</td>\n",
       "      <td>Japan</td>\n",
       "      <td>대졸이상</td>\n",
       "      <td>F</td>\n",
       "      <td>한명이상대졸이상</td>\n",
       "      <td>77</td>\n",
       "    </tr>\n",
       "  </tbody>\n",
       "</table>\n",
       "</div>"
      ],
      "text/plain": [
       "            국가 본인교육수준 성별    부모교육수준  값\n",
       "715     Russia   대졸이상  F  한명이상대졸이상 89\n",
       "319      Korea   대졸이상  F  한명이상대졸이상 82\n",
       "139     France   대졸이상  F  한명이상대졸이상 82\n",
       "320      Korea   대졸이상  M  한명이상대졸이상 81\n",
       "716     Russia   대졸이상  M  한명이상대졸이상 80\n",
       "643     Israel   대졸이상  F  한명이상대졸이상 80\n",
       "31   Australia   대졸이상  F  한명이상대졸이상 78\n",
       "571      Chile   대졸이상  F  한명이상대졸이상 78\n",
       "500     Turkey   대졸이상  M  한명이상대졸이상 78\n",
       "283      Japan   대졸이상  F  한명이상대졸이상 77"
      ]
     },
     "execution_count": 66,
     "metadata": {},
     "output_type": "execute_result"
    }
   ],
   "source": [
    "universityGraduation = edu.loc[(edu['본인교육수준'] == '대졸이상') & (edu['부모교육수준'] == '한명이상대졸이상')]\n",
    "universityGraduation.sort_values(by=['값'],ascending=False,inplace = True)\n",
    "universityGraduation.head(10)"
   ]
  },
  {
   "cell_type": "code",
   "execution_count": 67,
   "metadata": {},
   "outputs": [
    {
     "data": {
      "text/plain": [
       "<matplotlib.axes._subplots.AxesSubplot at 0x1d7da2bd9c8>"
      ]
     },
     "execution_count": 67,
     "metadata": {},
     "output_type": "execute_result"
    },
    {
     "data": {
      "image/png": "[encoded data removed]",
      "text/plain": [
       "<Figure size 1656x720 with 1 Axes>"
      ]
     },
     "metadata": {
      "needs_background": "light"
     },
     "output_type": "display_data"
    }
   ],
   "source": [
    "plt.figure(figsize=(23,10))\n",
    "sns.barplot(x=\"국가\", y=\"값\", hue=\"성별\", data=universityGraduation)"
   ]
  }
 ],
 "metadata": {
  "kernelspec": {
   "display_name": "Python 3",
   "language": "python",
   "name": "python3"
  },
  "language_info": {
   "codemirror_mode": {
    "name": "ipython",
    "version": 3
   },
   "file_extension": ".py",
   "mimetype": "text/x-python",
   "name": "python",
   "nbconvert_exporter": "python",
   "pygments_lexer": "ipython3",
   "version": "3.7.4"
  }
 },
 "nbformat": 4,
 "nbformat_minor": 2
}
